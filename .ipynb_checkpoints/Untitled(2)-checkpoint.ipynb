{
 "cells": [
  {
   "cell_type": "code",
   "execution_count": 22,
   "id": "fFsSBBLUpPx_",
   "metadata": {
    "colab": {
     "base_uri": "https://localhost:8080/"
    },
    "executionInfo": {
     "elapsed": 20849,
     "status": "ok",
     "timestamp": 1627276608749,
     "user": {
      "displayName": "천지희",
      "photoUrl": "",
      "userId": "09169601570396658839"
     },
     "user_tz": -540
    },
    "id": "fFsSBBLUpPx_",
    "outputId": "8b9d5526-50c3-43d5-b121-259030b6bbdb"
   },
   "outputs": [],
   "source": [
    "# from google.colab import drive\n",
    "# drive.mount('/content/drive')"
   ]
  },
  {
   "cell_type": "code",
   "execution_count": 23,
   "id": "669e9bf1",
   "metadata": {
    "executionInfo": {
     "elapsed": 2240,
     "status": "ok",
     "timestamp": 1627276610986,
     "user": {
      "displayName": "천지희",
      "photoUrl": "",
      "userId": "09169601570396658839"
     },
     "user_tz": -540
    },
    "id": "669e9bf1"
   },
   "outputs": [],
   "source": [
    "import numpy as np\n",
    "import pandas as pd\n",
    "import seaborn as sns\n",
    "import matplotlib.pyplot as plt\n",
    "from tqdm import tqdm\n",
    "\n",
    "%matplotlib inline\n",
    "\n",
    "import warnings\n",
    "warnings.filterwarnings(\"ignore\", category = RuntimeWarning)\n",
    "\n",
    "train = pd.read_csv('./data/train.csv')\n",
    "test = pd.read_csv('./data/test.csv')\n",
    "submission = pd.read_csv('./data/sample_submission.csv')\n",
    "age_gender = pd.read_csv('./data/age_gender_info.csv')"
   ]
  },
  {
   "cell_type": "code",
   "execution_count": 24,
   "id": "c2c9b2fc",
   "metadata": {
    "colab": {
     "base_uri": "https://localhost:8080/"
    },
    "executionInfo": {
     "elapsed": 17,
     "status": "ok",
     "timestamp": 1627276610987,
     "user": {
      "displayName": "천지희",
      "photoUrl": "",
      "userId": "09169601570396658839"
     },
     "user_tz": -540
    },
    "id": "c2c9b2fc",
    "outputId": "81086c1e-8474-480f-a727-dd5c2fa800f0",
    "scrolled": true
   },
   "outputs": [
    {
     "data": {
      "text/plain": [
       "((2952, 15), (1022, 14))"
      ]
     },
     "execution_count": 24,
     "metadata": {},
     "output_type": "execute_result"
    }
   ],
   "source": [
    "train.shape, test.shape"
   ]
  },
  {
   "cell_type": "code",
   "execution_count": 25,
   "id": "5103eea1",
   "metadata": {
    "colab": {
     "base_uri": "https://localhost:8080/",
     "height": 527
    },
    "executionInfo": {
     "elapsed": 16,
     "status": "ok",
     "timestamp": 1627276610988,
     "user": {
      "displayName": "천지희",
      "photoUrl": "",
      "userId": "09169601570396658839"
     },
     "user_tz": -540
    },
    "id": "5103eea1",
    "outputId": "4ef64395-3904-4318-c831-10654ad11dbf"
   },
   "outputs": [
    {
     "data": {
      "text/html": [
       "<div>\n",
       "<style scoped>\n",
       "    .dataframe tbody tr th:only-of-type {\n",
       "        vertical-align: middle;\n",
       "    }\n",
       "\n",
       "    .dataframe tbody tr th {\n",
       "        vertical-align: top;\n",
       "    }\n",
       "\n",
       "    .dataframe thead th {\n",
       "        text-align: right;\n",
       "    }\n",
       "</style>\n",
       "<table border=\"1\" class=\"dataframe\">\n",
       "  <thead>\n",
       "    <tr style=\"text-align: right;\">\n",
       "      <th></th>\n",
       "      <th>단지코드</th>\n",
       "      <th>총세대수</th>\n",
       "      <th>임대건물구분</th>\n",
       "      <th>지역</th>\n",
       "      <th>공급유형</th>\n",
       "      <th>전용면적</th>\n",
       "      <th>전용면적별세대수</th>\n",
       "      <th>공가수</th>\n",
       "      <th>자격유형</th>\n",
       "      <th>임대보증금</th>\n",
       "      <th>임대료</th>\n",
       "      <th>도보 10분거리 내 지하철역 수(환승노선 수 반영)</th>\n",
       "      <th>도보 10분거리 내 버스정류장 수</th>\n",
       "      <th>단지내주차면수</th>\n",
       "      <th>등록차량수</th>\n",
       "    </tr>\n",
       "  </thead>\n",
       "  <tbody>\n",
       "    <tr>\n",
       "      <th>0</th>\n",
       "      <td>C2483</td>\n",
       "      <td>900</td>\n",
       "      <td>아파트</td>\n",
       "      <td>경상북도</td>\n",
       "      <td>국민임대</td>\n",
       "      <td>39.72</td>\n",
       "      <td>134</td>\n",
       "      <td>38.0</td>\n",
       "      <td>A</td>\n",
       "      <td>15667000</td>\n",
       "      <td>103680</td>\n",
       "      <td>0.0</td>\n",
       "      <td>3.0</td>\n",
       "      <td>1425.0</td>\n",
       "      <td>1015.0</td>\n",
       "    </tr>\n",
       "    <tr>\n",
       "      <th>1</th>\n",
       "      <td>C2483</td>\n",
       "      <td>900</td>\n",
       "      <td>아파트</td>\n",
       "      <td>경상북도</td>\n",
       "      <td>국민임대</td>\n",
       "      <td>39.72</td>\n",
       "      <td>15</td>\n",
       "      <td>38.0</td>\n",
       "      <td>A</td>\n",
       "      <td>15667000</td>\n",
       "      <td>103680</td>\n",
       "      <td>0.0</td>\n",
       "      <td>3.0</td>\n",
       "      <td>1425.0</td>\n",
       "      <td>1015.0</td>\n",
       "    </tr>\n",
       "    <tr>\n",
       "      <th>2</th>\n",
       "      <td>C2483</td>\n",
       "      <td>900</td>\n",
       "      <td>아파트</td>\n",
       "      <td>경상북도</td>\n",
       "      <td>국민임대</td>\n",
       "      <td>51.93</td>\n",
       "      <td>385</td>\n",
       "      <td>38.0</td>\n",
       "      <td>A</td>\n",
       "      <td>27304000</td>\n",
       "      <td>184330</td>\n",
       "      <td>0.0</td>\n",
       "      <td>3.0</td>\n",
       "      <td>1425.0</td>\n",
       "      <td>1015.0</td>\n",
       "    </tr>\n",
       "    <tr>\n",
       "      <th>3</th>\n",
       "      <td>C2483</td>\n",
       "      <td>900</td>\n",
       "      <td>아파트</td>\n",
       "      <td>경상북도</td>\n",
       "      <td>국민임대</td>\n",
       "      <td>51.93</td>\n",
       "      <td>15</td>\n",
       "      <td>38.0</td>\n",
       "      <td>A</td>\n",
       "      <td>27304000</td>\n",
       "      <td>184330</td>\n",
       "      <td>0.0</td>\n",
       "      <td>3.0</td>\n",
       "      <td>1425.0</td>\n",
       "      <td>1015.0</td>\n",
       "    </tr>\n",
       "    <tr>\n",
       "      <th>4</th>\n",
       "      <td>C2483</td>\n",
       "      <td>900</td>\n",
       "      <td>아파트</td>\n",
       "      <td>경상북도</td>\n",
       "      <td>국민임대</td>\n",
       "      <td>51.93</td>\n",
       "      <td>41</td>\n",
       "      <td>38.0</td>\n",
       "      <td>A</td>\n",
       "      <td>27304000</td>\n",
       "      <td>184330</td>\n",
       "      <td>0.0</td>\n",
       "      <td>3.0</td>\n",
       "      <td>1425.0</td>\n",
       "      <td>1015.0</td>\n",
       "    </tr>\n",
       "  </tbody>\n",
       "</table>\n",
       "</div>"
      ],
      "text/plain": [
       "    단지코드  총세대수 임대건물구분    지역  공급유형   전용면적  전용면적별세대수   공가수 자격유형     임대보증금  \\\n",
       "0  C2483   900    아파트  경상북도  국민임대  39.72       134  38.0    A  15667000   \n",
       "1  C2483   900    아파트  경상북도  국민임대  39.72        15  38.0    A  15667000   \n",
       "2  C2483   900    아파트  경상북도  국민임대  51.93       385  38.0    A  27304000   \n",
       "3  C2483   900    아파트  경상북도  국민임대  51.93        15  38.0    A  27304000   \n",
       "4  C2483   900    아파트  경상북도  국민임대  51.93        41  38.0    A  27304000   \n",
       "\n",
       "      임대료  도보 10분거리 내 지하철역 수(환승노선 수 반영)  도보 10분거리 내 버스정류장 수  단지내주차면수   등록차량수  \n",
       "0  103680                           0.0                 3.0   1425.0  1015.0  \n",
       "1  103680                           0.0                 3.0   1425.0  1015.0  \n",
       "2  184330                           0.0                 3.0   1425.0  1015.0  \n",
       "3  184330                           0.0                 3.0   1425.0  1015.0  \n",
       "4  184330                           0.0                 3.0   1425.0  1015.0  "
      ]
     },
     "execution_count": 25,
     "metadata": {},
     "output_type": "execute_result"
    }
   ],
   "source": [
    "train.head()"
   ]
  },
  {
   "cell_type": "code",
   "execution_count": 26,
   "id": "6766d686",
   "metadata": {
    "colab": {
     "base_uri": "https://localhost:8080/",
     "height": 425
    },
    "executionInfo": {
     "elapsed": 16,
     "status": "ok",
     "timestamp": 1627276610989,
     "user": {
      "displayName": "천지희",
      "photoUrl": "",
      "userId": "09169601570396658839"
     },
     "user_tz": -540
    },
    "id": "6766d686",
    "outputId": "38630489-6bd4-4cf9-b71b-29f32d5a6a46"
   },
   "outputs": [
    {
     "data": {
      "text/html": [
       "<div>\n",
       "<style scoped>\n",
       "    .dataframe tbody tr th:only-of-type {\n",
       "        vertical-align: middle;\n",
       "    }\n",
       "\n",
       "    .dataframe tbody tr th {\n",
       "        vertical-align: top;\n",
       "    }\n",
       "\n",
       "    .dataframe thead th {\n",
       "        text-align: right;\n",
       "    }\n",
       "</style>\n",
       "<table border=\"1\" class=\"dataframe\">\n",
       "  <thead>\n",
       "    <tr style=\"text-align: right;\">\n",
       "      <th></th>\n",
       "      <th>단지코드</th>\n",
       "      <th>총세대수</th>\n",
       "      <th>임대건물구분</th>\n",
       "      <th>지역</th>\n",
       "      <th>공급유형</th>\n",
       "      <th>전용면적</th>\n",
       "      <th>전용면적별세대수</th>\n",
       "      <th>공가수</th>\n",
       "      <th>자격유형</th>\n",
       "      <th>임대보증금</th>\n",
       "      <th>임대료</th>\n",
       "      <th>도보 10분거리 내 지하철역 수(환승노선 수 반영)</th>\n",
       "      <th>도보 10분거리 내 버스정류장 수</th>\n",
       "      <th>단지내주차면수</th>\n",
       "    </tr>\n",
       "  </thead>\n",
       "  <tbody>\n",
       "    <tr>\n",
       "      <th>0</th>\n",
       "      <td>C1072</td>\n",
       "      <td>754</td>\n",
       "      <td>아파트</td>\n",
       "      <td>경기도</td>\n",
       "      <td>국민임대</td>\n",
       "      <td>39.79</td>\n",
       "      <td>116</td>\n",
       "      <td>14.0</td>\n",
       "      <td>H</td>\n",
       "      <td>22830000</td>\n",
       "      <td>189840</td>\n",
       "      <td>0.0</td>\n",
       "      <td>2.0</td>\n",
       "      <td>683.0</td>\n",
       "    </tr>\n",
       "    <tr>\n",
       "      <th>1</th>\n",
       "      <td>C1072</td>\n",
       "      <td>754</td>\n",
       "      <td>아파트</td>\n",
       "      <td>경기도</td>\n",
       "      <td>국민임대</td>\n",
       "      <td>46.81</td>\n",
       "      <td>30</td>\n",
       "      <td>14.0</td>\n",
       "      <td>A</td>\n",
       "      <td>36048000</td>\n",
       "      <td>249930</td>\n",
       "      <td>0.0</td>\n",
       "      <td>2.0</td>\n",
       "      <td>683.0</td>\n",
       "    </tr>\n",
       "    <tr>\n",
       "      <th>2</th>\n",
       "      <td>C1072</td>\n",
       "      <td>754</td>\n",
       "      <td>아파트</td>\n",
       "      <td>경기도</td>\n",
       "      <td>국민임대</td>\n",
       "      <td>46.90</td>\n",
       "      <td>112</td>\n",
       "      <td>14.0</td>\n",
       "      <td>H</td>\n",
       "      <td>36048000</td>\n",
       "      <td>249930</td>\n",
       "      <td>0.0</td>\n",
       "      <td>2.0</td>\n",
       "      <td>683.0</td>\n",
       "    </tr>\n",
       "    <tr>\n",
       "      <th>3</th>\n",
       "      <td>C1072</td>\n",
       "      <td>754</td>\n",
       "      <td>아파트</td>\n",
       "      <td>경기도</td>\n",
       "      <td>국민임대</td>\n",
       "      <td>46.90</td>\n",
       "      <td>120</td>\n",
       "      <td>14.0</td>\n",
       "      <td>H</td>\n",
       "      <td>36048000</td>\n",
       "      <td>249930</td>\n",
       "      <td>0.0</td>\n",
       "      <td>2.0</td>\n",
       "      <td>683.0</td>\n",
       "    </tr>\n",
       "    <tr>\n",
       "      <th>4</th>\n",
       "      <td>C1072</td>\n",
       "      <td>754</td>\n",
       "      <td>아파트</td>\n",
       "      <td>경기도</td>\n",
       "      <td>국민임대</td>\n",
       "      <td>51.46</td>\n",
       "      <td>60</td>\n",
       "      <td>14.0</td>\n",
       "      <td>H</td>\n",
       "      <td>43497000</td>\n",
       "      <td>296780</td>\n",
       "      <td>0.0</td>\n",
       "      <td>2.0</td>\n",
       "      <td>683.0</td>\n",
       "    </tr>\n",
       "  </tbody>\n",
       "</table>\n",
       "</div>"
      ],
      "text/plain": [
       "    단지코드  총세대수 임대건물구분   지역  공급유형   전용면적  전용면적별세대수   공가수 자격유형     임대보증금  \\\n",
       "0  C1072   754    아파트  경기도  국민임대  39.79       116  14.0    H  22830000   \n",
       "1  C1072   754    아파트  경기도  국민임대  46.81        30  14.0    A  36048000   \n",
       "2  C1072   754    아파트  경기도  국민임대  46.90       112  14.0    H  36048000   \n",
       "3  C1072   754    아파트  경기도  국민임대  46.90       120  14.0    H  36048000   \n",
       "4  C1072   754    아파트  경기도  국민임대  51.46        60  14.0    H  43497000   \n",
       "\n",
       "      임대료  도보 10분거리 내 지하철역 수(환승노선 수 반영)  도보 10분거리 내 버스정류장 수  단지내주차면수  \n",
       "0  189840                           0.0                 2.0    683.0  \n",
       "1  249930                           0.0                 2.0    683.0  \n",
       "2  249930                           0.0                 2.0    683.0  \n",
       "3  249930                           0.0                 2.0    683.0  \n",
       "4  296780                           0.0                 2.0    683.0  "
      ]
     },
     "execution_count": 26,
     "metadata": {},
     "output_type": "execute_result"
    }
   ],
   "source": [
    "test.head()"
   ]
  },
  {
   "cell_type": "code",
   "execution_count": 27,
   "id": "dde86d21",
   "metadata": {
    "executionInfo": {
     "elapsed": 16,
     "status": "ok",
     "timestamp": 1627276610990,
     "user": {
      "displayName": "천지희",
      "photoUrl": "",
      "userId": "09169601570396658839"
     },
     "user_tz": -540
    },
    "id": "dde86d21"
   },
   "outputs": [],
   "source": [
    "\n",
    "train.columns = [\n",
    "    '단지코드', '총세대수', '임대건물구분', '지역', '공급유형', '전용면적', '전용면적별세대수', '공가수', '자격유형',\n",
    "    '임대보증금', '임대료', '지하철', '버스',\n",
    "    '단지내주차면수', '등록차량수'\n",
    "]\n",
    "\n",
    "test.columns = [\n",
    "    '단지코드', '총세대수', '임대건물구분', '지역', '공급유형', '전용면적', '전용면적별세대수', '공가수', '자격유형',\n",
    "    '임대보증금', '임대료', '지하철', '버스',\n",
    "    '단지내주차면수'\n",
    "]"
   ]
  },
  {
   "cell_type": "code",
   "execution_count": 28,
   "id": "7ad3bf00",
   "metadata": {
    "colab": {
     "base_uri": "https://localhost:8080/",
     "height": 323
    },
    "executionInfo": {
     "elapsed": 17,
     "status": "ok",
     "timestamp": 1627276610991,
     "user": {
      "displayName": "천지희",
      "photoUrl": "",
      "userId": "09169601570396658839"
     },
     "user_tz": -540
    },
    "id": "7ad3bf00",
    "outputId": "a4dfb54e-e800-402e-ed77-7fe73fa36616"
   },
   "outputs": [
    {
     "data": {
      "text/html": [
       "<div>\n",
       "<style scoped>\n",
       "    .dataframe tbody tr th:only-of-type {\n",
       "        vertical-align: middle;\n",
       "    }\n",
       "\n",
       "    .dataframe tbody tr th {\n",
       "        vertical-align: top;\n",
       "    }\n",
       "\n",
       "    .dataframe thead th {\n",
       "        text-align: right;\n",
       "    }\n",
       "</style>\n",
       "<table border=\"1\" class=\"dataframe\">\n",
       "  <thead>\n",
       "    <tr style=\"text-align: right;\">\n",
       "      <th></th>\n",
       "      <th>단지코드</th>\n",
       "      <th>총세대수</th>\n",
       "      <th>임대건물구분</th>\n",
       "      <th>지역</th>\n",
       "      <th>공급유형</th>\n",
       "      <th>전용면적</th>\n",
       "      <th>전용면적별세대수</th>\n",
       "      <th>공가수</th>\n",
       "      <th>자격유형</th>\n",
       "      <th>임대보증금</th>\n",
       "      <th>임대료</th>\n",
       "      <th>지하철</th>\n",
       "      <th>버스</th>\n",
       "      <th>단지내주차면수</th>\n",
       "      <th>등록차량수</th>\n",
       "    </tr>\n",
       "  </thead>\n",
       "  <tbody>\n",
       "    <tr>\n",
       "      <th>0</th>\n",
       "      <td>C2483</td>\n",
       "      <td>900</td>\n",
       "      <td>아파트</td>\n",
       "      <td>경상북도</td>\n",
       "      <td>국민임대</td>\n",
       "      <td>39.72</td>\n",
       "      <td>134</td>\n",
       "      <td>38.0</td>\n",
       "      <td>A</td>\n",
       "      <td>15667000</td>\n",
       "      <td>103680</td>\n",
       "      <td>0.0</td>\n",
       "      <td>3.0</td>\n",
       "      <td>1425.0</td>\n",
       "      <td>1015.0</td>\n",
       "    </tr>\n",
       "    <tr>\n",
       "      <th>1</th>\n",
       "      <td>C2483</td>\n",
       "      <td>900</td>\n",
       "      <td>아파트</td>\n",
       "      <td>경상북도</td>\n",
       "      <td>국민임대</td>\n",
       "      <td>39.72</td>\n",
       "      <td>15</td>\n",
       "      <td>38.0</td>\n",
       "      <td>A</td>\n",
       "      <td>15667000</td>\n",
       "      <td>103680</td>\n",
       "      <td>0.0</td>\n",
       "      <td>3.0</td>\n",
       "      <td>1425.0</td>\n",
       "      <td>1015.0</td>\n",
       "    </tr>\n",
       "    <tr>\n",
       "      <th>2</th>\n",
       "      <td>C2483</td>\n",
       "      <td>900</td>\n",
       "      <td>아파트</td>\n",
       "      <td>경상북도</td>\n",
       "      <td>국민임대</td>\n",
       "      <td>51.93</td>\n",
       "      <td>385</td>\n",
       "      <td>38.0</td>\n",
       "      <td>A</td>\n",
       "      <td>27304000</td>\n",
       "      <td>184330</td>\n",
       "      <td>0.0</td>\n",
       "      <td>3.0</td>\n",
       "      <td>1425.0</td>\n",
       "      <td>1015.0</td>\n",
       "    </tr>\n",
       "    <tr>\n",
       "      <th>3</th>\n",
       "      <td>C2483</td>\n",
       "      <td>900</td>\n",
       "      <td>아파트</td>\n",
       "      <td>경상북도</td>\n",
       "      <td>국민임대</td>\n",
       "      <td>51.93</td>\n",
       "      <td>15</td>\n",
       "      <td>38.0</td>\n",
       "      <td>A</td>\n",
       "      <td>27304000</td>\n",
       "      <td>184330</td>\n",
       "      <td>0.0</td>\n",
       "      <td>3.0</td>\n",
       "      <td>1425.0</td>\n",
       "      <td>1015.0</td>\n",
       "    </tr>\n",
       "    <tr>\n",
       "      <th>4</th>\n",
       "      <td>C2483</td>\n",
       "      <td>900</td>\n",
       "      <td>아파트</td>\n",
       "      <td>경상북도</td>\n",
       "      <td>국민임대</td>\n",
       "      <td>51.93</td>\n",
       "      <td>41</td>\n",
       "      <td>38.0</td>\n",
       "      <td>A</td>\n",
       "      <td>27304000</td>\n",
       "      <td>184330</td>\n",
       "      <td>0.0</td>\n",
       "      <td>3.0</td>\n",
       "      <td>1425.0</td>\n",
       "      <td>1015.0</td>\n",
       "    </tr>\n",
       "  </tbody>\n",
       "</table>\n",
       "</div>"
      ],
      "text/plain": [
       "    단지코드  총세대수 임대건물구분    지역  공급유형   전용면적  전용면적별세대수   공가수 자격유형     임대보증금  \\\n",
       "0  C2483   900    아파트  경상북도  국민임대  39.72       134  38.0    A  15667000   \n",
       "1  C2483   900    아파트  경상북도  국민임대  39.72        15  38.0    A  15667000   \n",
       "2  C2483   900    아파트  경상북도  국민임대  51.93       385  38.0    A  27304000   \n",
       "3  C2483   900    아파트  경상북도  국민임대  51.93        15  38.0    A  27304000   \n",
       "4  C2483   900    아파트  경상북도  국민임대  51.93        41  38.0    A  27304000   \n",
       "\n",
       "      임대료  지하철   버스  단지내주차면수   등록차량수  \n",
       "0  103680  0.0  3.0   1425.0  1015.0  \n",
       "1  103680  0.0  3.0   1425.0  1015.0  \n",
       "2  184330  0.0  3.0   1425.0  1015.0  \n",
       "3  184330  0.0  3.0   1425.0  1015.0  \n",
       "4  184330  0.0  3.0   1425.0  1015.0  "
      ]
     },
     "execution_count": 28,
     "metadata": {},
     "output_type": "execute_result"
    }
   ],
   "source": [
    "train.head()"
   ]
  },
  {
   "cell_type": "code",
   "execution_count": 29,
   "id": "939b84ae",
   "metadata": {
    "colab": {
     "base_uri": "https://localhost:8080/"
    },
    "executionInfo": {
     "elapsed": 16,
     "status": "ok",
     "timestamp": 1627276610991,
     "user": {
      "displayName": "천지희",
      "photoUrl": "",
      "userId": "09169601570396658839"
     },
     "user_tz": -540
    },
    "id": "939b84ae",
    "outputId": "b353e945-be24-46cf-ba77-35d877d4efa6"
   },
   "outputs": [
    {
     "name": "stdout",
     "output_type": "stream",
     "text": [
      "<class 'pandas.core.frame.DataFrame'>\n",
      "RangeIndex: 2952 entries, 0 to 2951\n",
      "Data columns (total 15 columns):\n",
      " #   Column    Non-Null Count  Dtype  \n",
      "---  ------    --------------  -----  \n",
      " 0   단지코드      2952 non-null   object \n",
      " 1   총세대수      2952 non-null   int64  \n",
      " 2   임대건물구분    2952 non-null   object \n",
      " 3   지역        2952 non-null   object \n",
      " 4   공급유형      2952 non-null   object \n",
      " 5   전용면적      2952 non-null   float64\n",
      " 6   전용면적별세대수  2952 non-null   int64  \n",
      " 7   공가수       2952 non-null   float64\n",
      " 8   자격유형      2952 non-null   object \n",
      " 9   임대보증금     2383 non-null   object \n",
      " 10  임대료       2383 non-null   object \n",
      " 11  지하철       2741 non-null   float64\n",
      " 12  버스        2948 non-null   float64\n",
      " 13  단지내주차면수   2952 non-null   float64\n",
      " 14  등록차량수     2952 non-null   float64\n",
      "dtypes: float64(6), int64(2), object(7)\n",
      "memory usage: 346.1+ KB\n"
     ]
    }
   ],
   "source": [
    "train.info()"
   ]
  },
  {
   "cell_type": "code",
   "execution_count": 30,
   "id": "B1kAKPWVPUc0",
   "metadata": {
    "colab": {
     "base_uri": "https://localhost:8080/",
     "height": 297
    },
    "executionInfo": {
     "elapsed": 14,
     "status": "ok",
     "timestamp": 1627276610992,
     "user": {
      "displayName": "천지희",
      "photoUrl": "",
      "userId": "09169601570396658839"
     },
     "user_tz": -540
    },
    "id": "B1kAKPWVPUc0",
    "outputId": "cd5dc000-041f-448c-e428-99df7d40ffa8"
   },
   "outputs": [
    {
     "data": {
      "text/html": [
       "<div>\n",
       "<style scoped>\n",
       "    .dataframe tbody tr th:only-of-type {\n",
       "        vertical-align: middle;\n",
       "    }\n",
       "\n",
       "    .dataframe tbody tr th {\n",
       "        vertical-align: top;\n",
       "    }\n",
       "\n",
       "    .dataframe thead th {\n",
       "        text-align: right;\n",
       "    }\n",
       "</style>\n",
       "<table border=\"1\" class=\"dataframe\">\n",
       "  <thead>\n",
       "    <tr style=\"text-align: right;\">\n",
       "      <th></th>\n",
       "      <th>총세대수</th>\n",
       "      <th>전용면적</th>\n",
       "      <th>전용면적별세대수</th>\n",
       "      <th>공가수</th>\n",
       "      <th>지하철</th>\n",
       "      <th>버스</th>\n",
       "      <th>단지내주차면수</th>\n",
       "      <th>등록차량수</th>\n",
       "    </tr>\n",
       "  </thead>\n",
       "  <tbody>\n",
       "    <tr>\n",
       "      <th>count</th>\n",
       "      <td>2952.000000</td>\n",
       "      <td>2952.000000</td>\n",
       "      <td>2952.000000</td>\n",
       "      <td>2952.000000</td>\n",
       "      <td>2741.000000</td>\n",
       "      <td>2948.000000</td>\n",
       "      <td>2952.000000</td>\n",
       "      <td>2952.000000</td>\n",
       "    </tr>\n",
       "    <tr>\n",
       "      <th>mean</th>\n",
       "      <td>886.661247</td>\n",
       "      <td>44.757215</td>\n",
       "      <td>102.747967</td>\n",
       "      <td>12.921070</td>\n",
       "      <td>0.176578</td>\n",
       "      <td>3.695726</td>\n",
       "      <td>601.668360</td>\n",
       "      <td>559.768293</td>\n",
       "    </tr>\n",
       "    <tr>\n",
       "      <th>std</th>\n",
       "      <td>513.540168</td>\n",
       "      <td>31.874280</td>\n",
       "      <td>132.640159</td>\n",
       "      <td>10.778831</td>\n",
       "      <td>0.427408</td>\n",
       "      <td>2.644665</td>\n",
       "      <td>396.407072</td>\n",
       "      <td>433.375027</td>\n",
       "    </tr>\n",
       "    <tr>\n",
       "      <th>min</th>\n",
       "      <td>26.000000</td>\n",
       "      <td>12.620000</td>\n",
       "      <td>1.000000</td>\n",
       "      <td>0.000000</td>\n",
       "      <td>0.000000</td>\n",
       "      <td>0.000000</td>\n",
       "      <td>13.000000</td>\n",
       "      <td>13.000000</td>\n",
       "    </tr>\n",
       "    <tr>\n",
       "      <th>25%</th>\n",
       "      <td>513.500000</td>\n",
       "      <td>32.100000</td>\n",
       "      <td>14.000000</td>\n",
       "      <td>4.000000</td>\n",
       "      <td>0.000000</td>\n",
       "      <td>2.000000</td>\n",
       "      <td>279.250000</td>\n",
       "      <td>220.000000</td>\n",
       "    </tr>\n",
       "    <tr>\n",
       "      <th>50%</th>\n",
       "      <td>779.000000</td>\n",
       "      <td>39.930000</td>\n",
       "      <td>60.000000</td>\n",
       "      <td>11.000000</td>\n",
       "      <td>0.000000</td>\n",
       "      <td>3.000000</td>\n",
       "      <td>517.000000</td>\n",
       "      <td>487.000000</td>\n",
       "    </tr>\n",
       "    <tr>\n",
       "      <th>75%</th>\n",
       "      <td>1106.000000</td>\n",
       "      <td>51.562500</td>\n",
       "      <td>144.000000</td>\n",
       "      <td>20.000000</td>\n",
       "      <td>0.000000</td>\n",
       "      <td>4.000000</td>\n",
       "      <td>823.000000</td>\n",
       "      <td>770.000000</td>\n",
       "    </tr>\n",
       "    <tr>\n",
       "      <th>max</th>\n",
       "      <td>2568.000000</td>\n",
       "      <td>583.400000</td>\n",
       "      <td>1865.000000</td>\n",
       "      <td>55.000000</td>\n",
       "      <td>3.000000</td>\n",
       "      <td>20.000000</td>\n",
       "      <td>1798.000000</td>\n",
       "      <td>2550.000000</td>\n",
       "    </tr>\n",
       "  </tbody>\n",
       "</table>\n",
       "</div>"
      ],
      "text/plain": [
       "              총세대수         전용면적     전용면적별세대수          공가수          지하철  \\\n",
       "count  2952.000000  2952.000000  2952.000000  2952.000000  2741.000000   \n",
       "mean    886.661247    44.757215   102.747967    12.921070     0.176578   \n",
       "std     513.540168    31.874280   132.640159    10.778831     0.427408   \n",
       "min      26.000000    12.620000     1.000000     0.000000     0.000000   \n",
       "25%     513.500000    32.100000    14.000000     4.000000     0.000000   \n",
       "50%     779.000000    39.930000    60.000000    11.000000     0.000000   \n",
       "75%    1106.000000    51.562500   144.000000    20.000000     0.000000   \n",
       "max    2568.000000   583.400000  1865.000000    55.000000     3.000000   \n",
       "\n",
       "                버스      단지내주차면수        등록차량수  \n",
       "count  2948.000000  2952.000000  2952.000000  \n",
       "mean      3.695726   601.668360   559.768293  \n",
       "std       2.644665   396.407072   433.375027  \n",
       "min       0.000000    13.000000    13.000000  \n",
       "25%       2.000000   279.250000   220.000000  \n",
       "50%       3.000000   517.000000   487.000000  \n",
       "75%       4.000000   823.000000   770.000000  \n",
       "max      20.000000  1798.000000  2550.000000  "
      ]
     },
     "execution_count": 30,
     "metadata": {},
     "output_type": "execute_result"
    }
   ],
   "source": [
    "train.describe()"
   ]
  },
  {
   "cell_type": "code",
   "execution_count": 31,
   "id": "b04e6ed6",
   "metadata": {
    "colab": {
     "base_uri": "https://localhost:8080/"
    },
    "executionInfo": {
     "elapsed": 25,
     "status": "ok",
     "timestamp": 1627276611548,
     "user": {
      "displayName": "천지희",
      "photoUrl": "",
      "userId": "09169601570396658839"
     },
     "user_tz": -540
    },
    "id": "b04e6ed6",
    "outputId": "cbffdd47-b562-4b4b-ddeb-cacd9411d4b6",
    "scrolled": true
   },
   "outputs": [
    {
     "data": {
      "text/plain": [
       "단지코드          0\n",
       "총세대수          0\n",
       "임대건물구분        0\n",
       "지역            0\n",
       "공급유형          0\n",
       "전용면적          0\n",
       "전용면적별세대수      0\n",
       "공가수           0\n",
       "자격유형          0\n",
       "임대보증금       569\n",
       "임대료         569\n",
       "지하철         211\n",
       "버스            4\n",
       "단지내주차면수       0\n",
       "등록차량수         0\n",
       "dtype: int64"
      ]
     },
     "execution_count": 31,
     "metadata": {},
     "output_type": "execute_result"
    }
   ],
   "source": [
    "train.isnull().sum()"
   ]
  },
  {
   "cell_type": "code",
   "execution_count": 32,
   "id": "4fde9490",
   "metadata": {
    "colab": {
     "base_uri": "https://localhost:8080/"
    },
    "executionInfo": {
     "elapsed": 24,
     "status": "ok",
     "timestamp": 1627276611549,
     "user": {
      "displayName": "천지희",
      "photoUrl": "",
      "userId": "09169601570396658839"
     },
     "user_tz": -540
    },
    "id": "4fde9490",
    "outputId": "f418293c-a9c5-4708-ac3e-d4a65cbf9b2d"
   },
   "outputs": [
    {
     "data": {
      "text/plain": [
       "임대상가    562\n",
       "공공분양      7\n",
       "Name: 공급유형, dtype: int64"
      ]
     },
     "execution_count": 32,
     "metadata": {},
     "output_type": "execute_result"
    }
   ],
   "source": [
    "train[train.임대보증금.isnull()].공급유형.value_counts()"
   ]
  },
  {
   "cell_type": "code",
   "execution_count": 33,
   "id": "d1568222",
   "metadata": {
    "colab": {
     "base_uri": "https://localhost:8080/"
    },
    "executionInfo": {
     "elapsed": 21,
     "status": "ok",
     "timestamp": 1627276611549,
     "user": {
      "displayName": "천지희",
      "photoUrl": "",
      "userId": "09169601570396658839"
     },
     "user_tz": -540
    },
    "id": "d1568222",
    "outputId": "64de6e98-070e-4477-b4c5-948d0e39cbd1"
   },
   "outputs": [
    {
     "data": {
      "text/plain": [
       "단지코드          0\n",
       "총세대수          0\n",
       "임대건물구분        0\n",
       "지역            0\n",
       "공급유형          0\n",
       "전용면적          0\n",
       "전용면적별세대수      0\n",
       "공가수           0\n",
       "자격유형          2\n",
       "임대보증금       180\n",
       "임대료         180\n",
       "지하철          42\n",
       "버스            0\n",
       "단지내주차면수       0\n",
       "dtype: int64"
      ]
     },
     "execution_count": 33,
     "metadata": {},
     "output_type": "execute_result"
    }
   ],
   "source": [
    "test.isnull().sum()"
   ]
  },
  {
   "cell_type": "code",
   "execution_count": 34,
   "id": "874fa289",
   "metadata": {
    "colab": {
     "base_uri": "https://localhost:8080/"
    },
    "executionInfo": {
     "elapsed": 20,
     "status": "ok",
     "timestamp": 1627276611550,
     "user": {
      "displayName": "천지희",
      "photoUrl": "",
      "userId": "09169601570396658839"
     },
     "user_tz": -540
    },
    "id": "874fa289",
    "outputId": "dd5535c0-1b38-4b28-9a0e-a792133bb693",
    "scrolled": true
   },
   "outputs": [
    {
     "data": {
      "text/plain": [
       "임대상가    177\n",
       "영구임대      3\n",
       "Name: 공급유형, dtype: int64"
      ]
     },
     "execution_count": 34,
     "metadata": {},
     "output_type": "execute_result"
    }
   ],
   "source": [
    "test[test.임대보증금.isnull()].공급유형.value_counts()"
   ]
  },
  {
   "cell_type": "code",
   "execution_count": 35,
   "id": "ypldMu1MRcEX",
   "metadata": {
    "executionInfo": {
     "elapsed": 18,
     "status": "ok",
     "timestamp": 1627276611550,
     "user": {
      "displayName": "천지희",
      "photoUrl": "",
      "userId": "09169601570396658839"
     },
     "user_tz": -540
    },
    "id": "ypldMu1MRcEX"
   },
   "outputs": [],
   "source": [
    "# 임대보증금, 임대료 '-'값 제거\n",
    "train.loc[train.임대보증금=='-', '임대보증금'] = np.nan\n",
    "test.loc[test.임대보증금=='-', '임대보증금'] = np.nan\n",
    "train['임대보증금'] = train['임대보증금'].astype(float)\n",
    "test['임대보증금'] = test['임대보증금'].astype(float)\n",
    "\n",
    "train.loc[train.임대료=='-', '임대료'] = np.nan\n",
    "test.loc[test.임대료=='-', '임대료'] = np.nan\n",
    "train['임대료'] = train['임대료'].astype(float)\n",
    "test['임대료'] = test['임대료'].astype(float)\n"
   ]
  },
  {
   "cell_type": "code",
   "execution_count": 36,
   "id": "b6bc964b",
   "metadata": {
    "executionInfo": {
     "elapsed": 19,
     "status": "ok",
     "timestamp": 1627276611551,
     "user": {
      "displayName": "천지희",
      "photoUrl": "",
      "userId": "09169601570396658839"
     },
     "user_tz": -540
    },
    "id": "b6bc964b"
   },
   "outputs": [],
   "source": [
    "# 임대보증금, 임대료 결측치 채우기\n",
    "train[['임대보증금', '임대료']] = train[['임대보증금', '임대료']].fillna(0)\n",
    "test[['임대보증금', '임대료']] = test[['임대보증금', '임대료']].fillna(0)"
   ]
  },
  {
   "cell_type": "code",
   "execution_count": 37,
   "id": "16bc732d",
   "metadata": {
    "executionInfo": {
     "elapsed": 19,
     "status": "ok",
     "timestamp": 1627276611551,
     "user": {
      "displayName": "천지희",
      "photoUrl": "",
      "userId": "09169601570396658839"
     },
     "user_tz": -540
    },
    "id": "16bc732d"
   },
   "outputs": [],
   "source": [
    "# 지하철역, 보스정류장 결측치 채우기 \n",
    "cols = ['지하철', '버스']\n",
    "train[cols] = train[cols].fillna(0)\n",
    "test[cols] = test[cols].fillna(0)"
   ]
  },
  {
   "cell_type": "code",
   "execution_count": 38,
   "id": "ac10e55e",
   "metadata": {
    "colab": {
     "base_uri": "https://localhost:8080/"
    },
    "executionInfo": {
     "elapsed": 18,
     "status": "ok",
     "timestamp": 1627276611551,
     "user": {
      "displayName": "천지희",
      "photoUrl": "",
      "userId": "09169601570396658839"
     },
     "user_tz": -540
    },
    "id": "ac10e55e",
    "outputId": "b473b880-a6d9-416b-b3e0-c7343da39d4e"
   },
   "outputs": [
    {
     "data": {
      "text/plain": [
       "단지코드        0\n",
       "총세대수        0\n",
       "임대건물구분      0\n",
       "지역          0\n",
       "공급유형        0\n",
       "전용면적        0\n",
       "전용면적별세대수    0\n",
       "공가수         0\n",
       "자격유형        0\n",
       "임대보증금       0\n",
       "임대료         0\n",
       "지하철         0\n",
       "버스          0\n",
       "단지내주차면수     0\n",
       "등록차량수       0\n",
       "dtype: int64"
      ]
     },
     "execution_count": 38,
     "metadata": {},
     "output_type": "execute_result"
    }
   ],
   "source": [
    "train.isnull().sum()"
   ]
  },
  {
   "cell_type": "code",
   "execution_count": 39,
   "id": "990f1b20",
   "metadata": {
    "colab": {
     "base_uri": "https://localhost:8080/",
     "height": 162
    },
    "executionInfo": {
     "elapsed": 18,
     "status": "ok",
     "timestamp": 1627276611552,
     "user": {
      "displayName": "천지희",
      "photoUrl": "",
      "userId": "09169601570396658839"
     },
     "user_tz": -540
    },
    "id": "990f1b20",
    "outputId": "887e07bc-3a11-4bb3-e133-0ebaa41c9ea4"
   },
   "outputs": [
    {
     "data": {
      "text/html": [
       "<div>\n",
       "<style scoped>\n",
       "    .dataframe tbody tr th:only-of-type {\n",
       "        vertical-align: middle;\n",
       "    }\n",
       "\n",
       "    .dataframe tbody tr th {\n",
       "        vertical-align: top;\n",
       "    }\n",
       "\n",
       "    .dataframe thead th {\n",
       "        text-align: right;\n",
       "    }\n",
       "</style>\n",
       "<table border=\"1\" class=\"dataframe\">\n",
       "  <thead>\n",
       "    <tr style=\"text-align: right;\">\n",
       "      <th></th>\n",
       "      <th>단지코드</th>\n",
       "      <th>총세대수</th>\n",
       "      <th>임대건물구분</th>\n",
       "      <th>지역</th>\n",
       "      <th>공급유형</th>\n",
       "      <th>전용면적</th>\n",
       "      <th>전용면적별세대수</th>\n",
       "      <th>공가수</th>\n",
       "      <th>자격유형</th>\n",
       "      <th>임대보증금</th>\n",
       "      <th>임대료</th>\n",
       "      <th>지하철</th>\n",
       "      <th>버스</th>\n",
       "      <th>단지내주차면수</th>\n",
       "    </tr>\n",
       "  </thead>\n",
       "  <tbody>\n",
       "    <tr>\n",
       "      <th>196</th>\n",
       "      <td>C2411</td>\n",
       "      <td>962</td>\n",
       "      <td>아파트</td>\n",
       "      <td>경상남도</td>\n",
       "      <td>국민임대</td>\n",
       "      <td>46.90</td>\n",
       "      <td>240</td>\n",
       "      <td>25.0</td>\n",
       "      <td>NaN</td>\n",
       "      <td>71950000.0</td>\n",
       "      <td>37470.0</td>\n",
       "      <td>0.0</td>\n",
       "      <td>2.0</td>\n",
       "      <td>840.0</td>\n",
       "    </tr>\n",
       "    <tr>\n",
       "      <th>258</th>\n",
       "      <td>C2253</td>\n",
       "      <td>1161</td>\n",
       "      <td>아파트</td>\n",
       "      <td>강원도</td>\n",
       "      <td>영구임대</td>\n",
       "      <td>26.37</td>\n",
       "      <td>745</td>\n",
       "      <td>0.0</td>\n",
       "      <td>NaN</td>\n",
       "      <td>2249000.0</td>\n",
       "      <td>44770.0</td>\n",
       "      <td>0.0</td>\n",
       "      <td>2.0</td>\n",
       "      <td>173.0</td>\n",
       "    </tr>\n",
       "  </tbody>\n",
       "</table>\n",
       "</div>"
      ],
      "text/plain": [
       "      단지코드  총세대수 임대건물구분    지역  공급유형   전용면적  전용면적별세대수   공가수 자격유형       임대보증금  \\\n",
       "196  C2411   962    아파트  경상남도  국민임대  46.90       240  25.0  NaN  71950000.0   \n",
       "258  C2253  1161    아파트   강원도  영구임대  26.37       745   0.0  NaN   2249000.0   \n",
       "\n",
       "         임대료  지하철   버스  단지내주차면수  \n",
       "196  37470.0  0.0  2.0    840.0  \n",
       "258  44770.0  0.0  2.0    173.0  "
      ]
     },
     "execution_count": 39,
     "metadata": {},
     "output_type": "execute_result"
    }
   ],
   "source": [
    "# test 자격유형 확인\n",
    "test[test.자격유형.isnull()]"
   ]
  },
  {
   "cell_type": "code",
   "execution_count": 40,
   "id": "9bc0b984",
   "metadata": {
    "colab": {
     "base_uri": "https://localhost:8080/",
     "height": 306
    },
    "executionInfo": {
     "elapsed": 18,
     "status": "ok",
     "timestamp": 1627276611553,
     "user": {
      "displayName": "천지희",
      "photoUrl": "",
      "userId": "09169601570396658839"
     },
     "user_tz": -540
    },
    "id": "9bc0b984",
    "outputId": "52d1a6d6-58dc-4fd1-c470-700c87df9f45"
   },
   "outputs": [
    {
     "data": {
      "text/html": [
       "<div>\n",
       "<style scoped>\n",
       "    .dataframe tbody tr th:only-of-type {\n",
       "        vertical-align: middle;\n",
       "    }\n",
       "\n",
       "    .dataframe tbody tr th {\n",
       "        vertical-align: top;\n",
       "    }\n",
       "\n",
       "    .dataframe thead th {\n",
       "        text-align: right;\n",
       "    }\n",
       "</style>\n",
       "<table border=\"1\" class=\"dataframe\">\n",
       "  <thead>\n",
       "    <tr style=\"text-align: right;\">\n",
       "      <th></th>\n",
       "      <th>단지코드</th>\n",
       "      <th>총세대수</th>\n",
       "      <th>임대건물구분</th>\n",
       "      <th>지역</th>\n",
       "      <th>공급유형</th>\n",
       "      <th>전용면적</th>\n",
       "      <th>전용면적별세대수</th>\n",
       "      <th>공가수</th>\n",
       "      <th>자격유형</th>\n",
       "      <th>임대보증금</th>\n",
       "      <th>임대료</th>\n",
       "      <th>지하철</th>\n",
       "      <th>버스</th>\n",
       "      <th>단지내주차면수</th>\n",
       "    </tr>\n",
       "  </thead>\n",
       "  <tbody>\n",
       "    <tr>\n",
       "      <th>193</th>\n",
       "      <td>C2411</td>\n",
       "      <td>962</td>\n",
       "      <td>아파트</td>\n",
       "      <td>경상남도</td>\n",
       "      <td>국민임대</td>\n",
       "      <td>39.43</td>\n",
       "      <td>56</td>\n",
       "      <td>25.0</td>\n",
       "      <td>A</td>\n",
       "      <td>11992000.0</td>\n",
       "      <td>100720.0</td>\n",
       "      <td>0.0</td>\n",
       "      <td>2.0</td>\n",
       "      <td>840.0</td>\n",
       "    </tr>\n",
       "    <tr>\n",
       "      <th>194</th>\n",
       "      <td>C2411</td>\n",
       "      <td>962</td>\n",
       "      <td>아파트</td>\n",
       "      <td>경상남도</td>\n",
       "      <td>국민임대</td>\n",
       "      <td>39.72</td>\n",
       "      <td>336</td>\n",
       "      <td>25.0</td>\n",
       "      <td>A</td>\n",
       "      <td>11992000.0</td>\n",
       "      <td>100720.0</td>\n",
       "      <td>0.0</td>\n",
       "      <td>2.0</td>\n",
       "      <td>840.0</td>\n",
       "    </tr>\n",
       "    <tr>\n",
       "      <th>195</th>\n",
       "      <td>C2411</td>\n",
       "      <td>962</td>\n",
       "      <td>아파트</td>\n",
       "      <td>경상남도</td>\n",
       "      <td>국민임대</td>\n",
       "      <td>39.82</td>\n",
       "      <td>179</td>\n",
       "      <td>25.0</td>\n",
       "      <td>A</td>\n",
       "      <td>11992000.0</td>\n",
       "      <td>100720.0</td>\n",
       "      <td>0.0</td>\n",
       "      <td>2.0</td>\n",
       "      <td>840.0</td>\n",
       "    </tr>\n",
       "    <tr>\n",
       "      <th>196</th>\n",
       "      <td>C2411</td>\n",
       "      <td>962</td>\n",
       "      <td>아파트</td>\n",
       "      <td>경상남도</td>\n",
       "      <td>국민임대</td>\n",
       "      <td>46.90</td>\n",
       "      <td>240</td>\n",
       "      <td>25.0</td>\n",
       "      <td>NaN</td>\n",
       "      <td>71950000.0</td>\n",
       "      <td>37470.0</td>\n",
       "      <td>0.0</td>\n",
       "      <td>2.0</td>\n",
       "      <td>840.0</td>\n",
       "    </tr>\n",
       "    <tr>\n",
       "      <th>197</th>\n",
       "      <td>C2411</td>\n",
       "      <td>962</td>\n",
       "      <td>아파트</td>\n",
       "      <td>경상남도</td>\n",
       "      <td>국민임대</td>\n",
       "      <td>51.93</td>\n",
       "      <td>150</td>\n",
       "      <td>25.0</td>\n",
       "      <td>A</td>\n",
       "      <td>21586000.0</td>\n",
       "      <td>171480.0</td>\n",
       "      <td>0.0</td>\n",
       "      <td>2.0</td>\n",
       "      <td>840.0</td>\n",
       "    </tr>\n",
       "  </tbody>\n",
       "</table>\n",
       "</div>"
      ],
      "text/plain": [
       "      단지코드  총세대수 임대건물구분    지역  공급유형   전용면적  전용면적별세대수   공가수 자격유형       임대보증금  \\\n",
       "193  C2411   962    아파트  경상남도  국민임대  39.43        56  25.0    A  11992000.0   \n",
       "194  C2411   962    아파트  경상남도  국민임대  39.72       336  25.0    A  11992000.0   \n",
       "195  C2411   962    아파트  경상남도  국민임대  39.82       179  25.0    A  11992000.0   \n",
       "196  C2411   962    아파트  경상남도  국민임대  46.90       240  25.0  NaN  71950000.0   \n",
       "197  C2411   962    아파트  경상남도  국민임대  51.93       150  25.0    A  21586000.0   \n",
       "\n",
       "          임대료  지하철   버스  단지내주차면수  \n",
       "193  100720.0  0.0  2.0    840.0  \n",
       "194  100720.0  0.0  2.0    840.0  \n",
       "195  100720.0  0.0  2.0    840.0  \n",
       "196   37470.0  0.0  2.0    840.0  \n",
       "197  171480.0  0.0  2.0    840.0  "
      ]
     },
     "execution_count": 40,
     "metadata": {},
     "output_type": "execute_result"
    }
   ],
   "source": [
    "test[test.단지코드 == 'C2411']"
   ]
  },
  {
   "cell_type": "code",
   "execution_count": 41,
   "id": "89991302",
   "metadata": {
    "executionInfo": {
     "elapsed": 15,
     "status": "ok",
     "timestamp": 1627276611553,
     "user": {
      "displayName": "천지희",
      "photoUrl": "",
      "userId": "09169601570396658839"
     },
     "user_tz": -540
    },
    "id": "89991302"
   },
   "outputs": [],
   "source": [
    "test.loc[test.단지코드.isin(['C2411']) & test.자격유형.isnull(), '자격유형'] = 'A'"
   ]
  },
  {
   "cell_type": "code",
   "execution_count": 42,
   "id": "b18a6cfb",
   "metadata": {
    "colab": {
     "base_uri": "https://localhost:8080/",
     "height": 306
    },
    "executionInfo": {
     "elapsed": 17,
     "status": "ok",
     "timestamp": 1627276611555,
     "user": {
      "displayName": "천지희",
      "photoUrl": "",
      "userId": "09169601570396658839"
     },
     "user_tz": -540
    },
    "id": "b18a6cfb",
    "outputId": "2c0ca386-ec24-43c8-fc3f-a2ce40b97302"
   },
   "outputs": [
    {
     "data": {
      "text/html": [
       "<div>\n",
       "<style scoped>\n",
       "    .dataframe tbody tr th:only-of-type {\n",
       "        vertical-align: middle;\n",
       "    }\n",
       "\n",
       "    .dataframe tbody tr th {\n",
       "        vertical-align: top;\n",
       "    }\n",
       "\n",
       "    .dataframe thead th {\n",
       "        text-align: right;\n",
       "    }\n",
       "</style>\n",
       "<table border=\"1\" class=\"dataframe\">\n",
       "  <thead>\n",
       "    <tr style=\"text-align: right;\">\n",
       "      <th></th>\n",
       "      <th>단지코드</th>\n",
       "      <th>총세대수</th>\n",
       "      <th>임대건물구분</th>\n",
       "      <th>지역</th>\n",
       "      <th>공급유형</th>\n",
       "      <th>전용면적</th>\n",
       "      <th>전용면적별세대수</th>\n",
       "      <th>공가수</th>\n",
       "      <th>자격유형</th>\n",
       "      <th>임대보증금</th>\n",
       "      <th>임대료</th>\n",
       "      <th>지하철</th>\n",
       "      <th>버스</th>\n",
       "      <th>단지내주차면수</th>\n",
       "    </tr>\n",
       "  </thead>\n",
       "  <tbody>\n",
       "    <tr>\n",
       "      <th>258</th>\n",
       "      <td>C2253</td>\n",
       "      <td>1161</td>\n",
       "      <td>아파트</td>\n",
       "      <td>강원도</td>\n",
       "      <td>영구임대</td>\n",
       "      <td>26.37</td>\n",
       "      <td>745</td>\n",
       "      <td>0.0</td>\n",
       "      <td>NaN</td>\n",
       "      <td>2249000.0</td>\n",
       "      <td>44770.0</td>\n",
       "      <td>0.0</td>\n",
       "      <td>2.0</td>\n",
       "      <td>173.0</td>\n",
       "    </tr>\n",
       "    <tr>\n",
       "      <th>259</th>\n",
       "      <td>C2253</td>\n",
       "      <td>1161</td>\n",
       "      <td>아파트</td>\n",
       "      <td>강원도</td>\n",
       "      <td>영구임대</td>\n",
       "      <td>31.32</td>\n",
       "      <td>239</td>\n",
       "      <td>0.0</td>\n",
       "      <td>C</td>\n",
       "      <td>3731000.0</td>\n",
       "      <td>83020.0</td>\n",
       "      <td>0.0</td>\n",
       "      <td>2.0</td>\n",
       "      <td>173.0</td>\n",
       "    </tr>\n",
       "    <tr>\n",
       "      <th>260</th>\n",
       "      <td>C2253</td>\n",
       "      <td>1161</td>\n",
       "      <td>아파트</td>\n",
       "      <td>강원도</td>\n",
       "      <td>영구임대</td>\n",
       "      <td>31.32</td>\n",
       "      <td>149</td>\n",
       "      <td>0.0</td>\n",
       "      <td>C</td>\n",
       "      <td>3731000.0</td>\n",
       "      <td>83020.0</td>\n",
       "      <td>0.0</td>\n",
       "      <td>2.0</td>\n",
       "      <td>173.0</td>\n",
       "    </tr>\n",
       "    <tr>\n",
       "      <th>261</th>\n",
       "      <td>C2253</td>\n",
       "      <td>1161</td>\n",
       "      <td>상가</td>\n",
       "      <td>강원도</td>\n",
       "      <td>임대상가</td>\n",
       "      <td>13.77</td>\n",
       "      <td>1</td>\n",
       "      <td>0.0</td>\n",
       "      <td>D</td>\n",
       "      <td>0.0</td>\n",
       "      <td>0.0</td>\n",
       "      <td>0.0</td>\n",
       "      <td>2.0</td>\n",
       "      <td>173.0</td>\n",
       "    </tr>\n",
       "    <tr>\n",
       "      <th>262</th>\n",
       "      <td>C2253</td>\n",
       "      <td>1161</td>\n",
       "      <td>상가</td>\n",
       "      <td>강원도</td>\n",
       "      <td>임대상가</td>\n",
       "      <td>22.89</td>\n",
       "      <td>1</td>\n",
       "      <td>0.0</td>\n",
       "      <td>D</td>\n",
       "      <td>0.0</td>\n",
       "      <td>0.0</td>\n",
       "      <td>0.0</td>\n",
       "      <td>2.0</td>\n",
       "      <td>173.0</td>\n",
       "    </tr>\n",
       "  </tbody>\n",
       "</table>\n",
       "</div>"
      ],
      "text/plain": [
       "      단지코드  총세대수 임대건물구분   지역  공급유형   전용면적  전용면적별세대수  공가수 자격유형      임대보증금  \\\n",
       "258  C2253  1161    아파트  강원도  영구임대  26.37       745  0.0  NaN  2249000.0   \n",
       "259  C2253  1161    아파트  강원도  영구임대  31.32       239  0.0    C  3731000.0   \n",
       "260  C2253  1161    아파트  강원도  영구임대  31.32       149  0.0    C  3731000.0   \n",
       "261  C2253  1161     상가  강원도  임대상가  13.77         1  0.0    D        0.0   \n",
       "262  C2253  1161     상가  강원도  임대상가  22.89         1  0.0    D        0.0   \n",
       "\n",
       "         임대료  지하철   버스  단지내주차면수  \n",
       "258  44770.0  0.0  2.0    173.0  \n",
       "259  83020.0  0.0  2.0    173.0  \n",
       "260  83020.0  0.0  2.0    173.0  \n",
       "261      0.0  0.0  2.0    173.0  \n",
       "262      0.0  0.0  2.0    173.0  "
      ]
     },
     "execution_count": 42,
     "metadata": {},
     "output_type": "execute_result"
    }
   ],
   "source": [
    "test[test.단지코드=='C2253'].head()"
   ]
  },
  {
   "cell_type": "code",
   "execution_count": 43,
   "id": "e8af523c",
   "metadata": {
    "executionInfo": {
     "elapsed": 16,
     "status": "ok",
     "timestamp": 1627276611556,
     "user": {
      "displayName": "천지희",
      "photoUrl": "",
      "userId": "09169601570396658839"
     },
     "user_tz": -540
    },
    "id": "e8af523c"
   },
   "outputs": [],
   "source": [
    "test.loc[test.단지코드.isin(['C2253']) & test.자격유형.isnull(), '자격유형'] = 'C'"
   ]
  },
  {
   "cell_type": "code",
   "execution_count": 44,
   "id": "b81c0a0c",
   "metadata": {
    "colab": {
     "base_uri": "https://localhost:8080/"
    },
    "executionInfo": {
     "elapsed": 38,
     "status": "ok",
     "timestamp": 1627276611950,
     "user": {
      "displayName": "천지희",
      "photoUrl": "",
      "userId": "09169601570396658839"
     },
     "user_tz": -540
    },
    "id": "b81c0a0c",
    "outputId": "f1b47ab7-5218-460c-ee02-2f488660a621"
   },
   "outputs": [
    {
     "data": {
      "text/plain": [
       "단지코드        0\n",
       "총세대수        0\n",
       "임대건물구분      0\n",
       "지역          0\n",
       "공급유형        0\n",
       "전용면적        0\n",
       "전용면적별세대수    0\n",
       "공가수         0\n",
       "자격유형        0\n",
       "임대보증금       0\n",
       "임대료         0\n",
       "지하철         0\n",
       "버스          0\n",
       "단지내주차면수     0\n",
       "dtype: int64"
      ]
     },
     "execution_count": 44,
     "metadata": {},
     "output_type": "execute_result"
    }
   ],
   "source": [
    "test.isnull().sum()"
   ]
  },
  {
   "cell_type": "code",
   "execution_count": 45,
   "id": "3cb219ff",
   "metadata": {
    "colab": {
     "base_uri": "https://localhost:8080/"
    },
    "executionInfo": {
     "elapsed": 37,
     "status": "ok",
     "timestamp": 1627276611951,
     "user": {
      "displayName": "천지희",
      "photoUrl": "",
      "userId": "09169601570396658839"
     },
     "user_tz": -540
    },
    "id": "3cb219ff",
    "outputId": "528e8c48-5373-4af7-cabf-f7c30c1aa786"
   },
   "outputs": [
    {
     "data": {
      "text/plain": [
       "((2952, 15), (2632, 15))"
      ]
     },
     "execution_count": 45,
     "metadata": {},
     "output_type": "execute_result"
    }
   ],
   "source": [
    "# 중복값 확인하기\n",
    "train.shape, train.drop_duplicates().shape"
   ]
  },
  {
   "cell_type": "code",
   "execution_count": 46,
   "id": "2962dded",
   "metadata": {
    "colab": {
     "base_uri": "https://localhost:8080/"
    },
    "executionInfo": {
     "elapsed": 33,
     "status": "ok",
     "timestamp": 1627276611951,
     "user": {
      "displayName": "천지희",
      "photoUrl": "",
      "userId": "09169601570396658839"
     },
     "user_tz": -540
    },
    "id": "2962dded",
    "outputId": "f4a1acf4-e41f-4bc3-a437-f095deacb5a9"
   },
   "outputs": [
    {
     "data": {
      "text/plain": [
       "((1022, 14), (949, 14))"
      ]
     },
     "execution_count": 46,
     "metadata": {},
     "output_type": "execute_result"
    }
   ],
   "source": [
    "test.shape, test.drop_duplicates().shape"
   ]
  },
  {
   "cell_type": "code",
   "execution_count": 47,
   "id": "f96084bc",
   "metadata": {
    "executionInfo": {
     "elapsed": 31,
     "status": "ok",
     "timestamp": 1627276611952,
     "user": {
      "displayName": "천지희",
      "photoUrl": "",
      "userId": "09169601570396658839"
     },
     "user_tz": -540
    },
    "id": "f96084bc"
   },
   "outputs": [],
   "source": [
    "# 중복값 제거하기\n",
    "train = train.drop_duplicates()\n",
    "test = test.drop_duplicates()"
   ]
  },
  {
   "cell_type": "code",
   "execution_count": 48,
   "id": "fkRkcotRTST7",
   "metadata": {
    "colab": {
     "base_uri": "https://localhost:8080/",
     "height": 484
    },
    "executionInfo": {
     "elapsed": 31,
     "status": "ok",
     "timestamp": 1627276611953,
     "user": {
      "displayName": "천지희",
      "photoUrl": "",
      "userId": "09169601570396658839"
     },
     "user_tz": -540
    },
    "id": "fkRkcotRTST7",
    "outputId": "f52fb966-d5be-4cd4-efef-b243b118b349"
   },
   "outputs": [
    {
     "data": {
      "text/html": [
       "<div>\n",
       "<style scoped>\n",
       "    .dataframe tbody tr th:only-of-type {\n",
       "        vertical-align: middle;\n",
       "    }\n",
       "\n",
       "    .dataframe tbody tr th {\n",
       "        vertical-align: top;\n",
       "    }\n",
       "\n",
       "    .dataframe thead th {\n",
       "        text-align: right;\n",
       "    }\n",
       "</style>\n",
       "<table border=\"1\" class=\"dataframe\">\n",
       "  <thead>\n",
       "    <tr style=\"text-align: right;\">\n",
       "      <th></th>\n",
       "      <th>총세대수</th>\n",
       "      <th>임대건물구분</th>\n",
       "      <th>지역</th>\n",
       "      <th>공급유형</th>\n",
       "      <th>전용면적</th>\n",
       "      <th>전용면적별세대수</th>\n",
       "      <th>공가수</th>\n",
       "      <th>자격유형</th>\n",
       "      <th>임대보증금</th>\n",
       "      <th>임대료</th>\n",
       "      <th>지하철</th>\n",
       "      <th>버스</th>\n",
       "      <th>단지내주차면수</th>\n",
       "      <th>등록차량수</th>\n",
       "    </tr>\n",
       "    <tr>\n",
       "      <th>단지코드</th>\n",
       "      <th></th>\n",
       "      <th></th>\n",
       "      <th></th>\n",
       "      <th></th>\n",
       "      <th></th>\n",
       "      <th></th>\n",
       "      <th></th>\n",
       "      <th></th>\n",
       "      <th></th>\n",
       "      <th></th>\n",
       "      <th></th>\n",
       "      <th></th>\n",
       "      <th></th>\n",
       "      <th></th>\n",
       "    </tr>\n",
       "  </thead>\n",
       "  <tbody>\n",
       "    <tr>\n",
       "      <th>C1000</th>\n",
       "      <td>1</td>\n",
       "      <td>1</td>\n",
       "      <td>1</td>\n",
       "      <td>1</td>\n",
       "      <td>5</td>\n",
       "      <td>6</td>\n",
       "      <td>1</td>\n",
       "      <td>1</td>\n",
       "      <td>3</td>\n",
       "      <td>3</td>\n",
       "      <td>1</td>\n",
       "      <td>1</td>\n",
       "      <td>1</td>\n",
       "      <td>1</td>\n",
       "    </tr>\n",
       "    <tr>\n",
       "      <th>C1004</th>\n",
       "      <td>1</td>\n",
       "      <td>2</td>\n",
       "      <td>1</td>\n",
       "      <td>2</td>\n",
       "      <td>15</td>\n",
       "      <td>3</td>\n",
       "      <td>1</td>\n",
       "      <td>2</td>\n",
       "      <td>3</td>\n",
       "      <td>3</td>\n",
       "      <td>1</td>\n",
       "      <td>1</td>\n",
       "      <td>1</td>\n",
       "      <td>1</td>\n",
       "    </tr>\n",
       "    <tr>\n",
       "      <th>C1005</th>\n",
       "      <td>1</td>\n",
       "      <td>1</td>\n",
       "      <td>1</td>\n",
       "      <td>1</td>\n",
       "      <td>3</td>\n",
       "      <td>3</td>\n",
       "      <td>1</td>\n",
       "      <td>1</td>\n",
       "      <td>3</td>\n",
       "      <td>3</td>\n",
       "      <td>1</td>\n",
       "      <td>1</td>\n",
       "      <td>1</td>\n",
       "      <td>1</td>\n",
       "    </tr>\n",
       "    <tr>\n",
       "      <th>C1013</th>\n",
       "      <td>1</td>\n",
       "      <td>1</td>\n",
       "      <td>1</td>\n",
       "      <td>1</td>\n",
       "      <td>4</td>\n",
       "      <td>5</td>\n",
       "      <td>1</td>\n",
       "      <td>1</td>\n",
       "      <td>3</td>\n",
       "      <td>3</td>\n",
       "      <td>1</td>\n",
       "      <td>1</td>\n",
       "      <td>1</td>\n",
       "      <td>1</td>\n",
       "    </tr>\n",
       "    <tr>\n",
       "      <th>C1014</th>\n",
       "      <td>1</td>\n",
       "      <td>1</td>\n",
       "      <td>1</td>\n",
       "      <td>1</td>\n",
       "      <td>6</td>\n",
       "      <td>7</td>\n",
       "      <td>1</td>\n",
       "      <td>1</td>\n",
       "      <td>4</td>\n",
       "      <td>4</td>\n",
       "      <td>1</td>\n",
       "      <td>1</td>\n",
       "      <td>1</td>\n",
       "      <td>1</td>\n",
       "    </tr>\n",
       "    <tr>\n",
       "      <th>...</th>\n",
       "      <td>...</td>\n",
       "      <td>...</td>\n",
       "      <td>...</td>\n",
       "      <td>...</td>\n",
       "      <td>...</td>\n",
       "      <td>...</td>\n",
       "      <td>...</td>\n",
       "      <td>...</td>\n",
       "      <td>...</td>\n",
       "      <td>...</td>\n",
       "      <td>...</td>\n",
       "      <td>...</td>\n",
       "      <td>...</td>\n",
       "      <td>...</td>\n",
       "    </tr>\n",
       "    <tr>\n",
       "      <th>C2663</th>\n",
       "      <td>1</td>\n",
       "      <td>1</td>\n",
       "      <td>1</td>\n",
       "      <td>1</td>\n",
       "      <td>5</td>\n",
       "      <td>6</td>\n",
       "      <td>1</td>\n",
       "      <td>1</td>\n",
       "      <td>4</td>\n",
       "      <td>4</td>\n",
       "      <td>1</td>\n",
       "      <td>1</td>\n",
       "      <td>1</td>\n",
       "      <td>1</td>\n",
       "    </tr>\n",
       "    <tr>\n",
       "      <th>C2666</th>\n",
       "      <td>1</td>\n",
       "      <td>1</td>\n",
       "      <td>1</td>\n",
       "      <td>1</td>\n",
       "      <td>4</td>\n",
       "      <td>6</td>\n",
       "      <td>1</td>\n",
       "      <td>1</td>\n",
       "      <td>2</td>\n",
       "      <td>2</td>\n",
       "      <td>1</td>\n",
       "      <td>1</td>\n",
       "      <td>1</td>\n",
       "      <td>1</td>\n",
       "    </tr>\n",
       "    <tr>\n",
       "      <th>C2670</th>\n",
       "      <td>1</td>\n",
       "      <td>1</td>\n",
       "      <td>1</td>\n",
       "      <td>1</td>\n",
       "      <td>4</td>\n",
       "      <td>3</td>\n",
       "      <td>1</td>\n",
       "      <td>1</td>\n",
       "      <td>3</td>\n",
       "      <td>3</td>\n",
       "      <td>1</td>\n",
       "      <td>1</td>\n",
       "      <td>1</td>\n",
       "      <td>1</td>\n",
       "    </tr>\n",
       "    <tr>\n",
       "      <th>C2680</th>\n",
       "      <td>1</td>\n",
       "      <td>1</td>\n",
       "      <td>1</td>\n",
       "      <td>1</td>\n",
       "      <td>2</td>\n",
       "      <td>3</td>\n",
       "      <td>1</td>\n",
       "      <td>1</td>\n",
       "      <td>2</td>\n",
       "      <td>2</td>\n",
       "      <td>1</td>\n",
       "      <td>1</td>\n",
       "      <td>1</td>\n",
       "      <td>1</td>\n",
       "    </tr>\n",
       "    <tr>\n",
       "      <th>C2692</th>\n",
       "      <td>1</td>\n",
       "      <td>1</td>\n",
       "      <td>1</td>\n",
       "      <td>1</td>\n",
       "      <td>3</td>\n",
       "      <td>4</td>\n",
       "      <td>1</td>\n",
       "      <td>1</td>\n",
       "      <td>3</td>\n",
       "      <td>3</td>\n",
       "      <td>1</td>\n",
       "      <td>1</td>\n",
       "      <td>1</td>\n",
       "      <td>1</td>\n",
       "    </tr>\n",
       "  </tbody>\n",
       "</table>\n",
       "<p>423 rows × 14 columns</p>\n",
       "</div>"
      ],
      "text/plain": [
       "       총세대수  임대건물구분  지역  공급유형  전용면적  전용면적별세대수  공가수  자격유형  임대보증금  임대료  지하철  버스  \\\n",
       "단지코드                                                                            \n",
       "C1000     1       1   1     1     5         6    1     1      3    3    1   1   \n",
       "C1004     1       2   1     2    15         3    1     2      3    3    1   1   \n",
       "C1005     1       1   1     1     3         3    1     1      3    3    1   1   \n",
       "C1013     1       1   1     1     4         5    1     1      3    3    1   1   \n",
       "C1014     1       1   1     1     6         7    1     1      4    4    1   1   \n",
       "...     ...     ...  ..   ...   ...       ...  ...   ...    ...  ...  ...  ..   \n",
       "C2663     1       1   1     1     5         6    1     1      4    4    1   1   \n",
       "C2666     1       1   1     1     4         6    1     1      2    2    1   1   \n",
       "C2670     1       1   1     1     4         3    1     1      3    3    1   1   \n",
       "C2680     1       1   1     1     2         3    1     1      2    2    1   1   \n",
       "C2692     1       1   1     1     3         4    1     1      3    3    1   1   \n",
       "\n",
       "       단지내주차면수  등록차량수  \n",
       "단지코드                   \n",
       "C1000        1      1  \n",
       "C1004        1      1  \n",
       "C1005        1      1  \n",
       "C1013        1      1  \n",
       "C1014        1      1  \n",
       "...        ...    ...  \n",
       "C2663        1      1  \n",
       "C2666        1      1  \n",
       "C2670        1      1  \n",
       "C2680        1      1  \n",
       "C2692        1      1  \n",
       "\n",
       "[423 rows x 14 columns]"
      ]
     },
     "execution_count": 48,
     "metadata": {},
     "output_type": "execute_result"
    }
   ],
   "source": [
    "# 단지코드별 항목개수 알아보기\n",
    "train.groupby(['단지코드']).nunique(dropna=False)"
   ]
  },
  {
   "cell_type": "code",
   "execution_count": 49,
   "id": "7hp7PS6FTk9b",
   "metadata": {
    "colab": {
     "base_uri": "https://localhost:8080/"
    },
    "executionInfo": {
     "elapsed": 30,
     "status": "ok",
     "timestamp": 1627276611953,
     "user": {
      "displayName": "천지희",
      "photoUrl": "",
      "userId": "09169601570396658839"
     },
     "user_tz": -540
    },
    "id": "7hp7PS6FTk9b",
    "outputId": "16c9e126-480e-43bb-924c-ad5df84a1770"
   },
   "outputs": [
    {
     "data": {
      "text/plain": [
       "총세대수         423\n",
       "임대건물구분       456\n",
       "지역           423\n",
       "공급유형         488\n",
       "전용면적        1898\n",
       "전용면적별세대수    2230\n",
       "공가수          423\n",
       "자격유형         510\n",
       "임대보증금       1277\n",
       "임대료         1289\n",
       "지하철          423\n",
       "버스           423\n",
       "단지내주차면수      423\n",
       "등록차량수        423\n",
       "dtype: int64"
      ]
     },
     "execution_count": 49,
     "metadata": {},
     "output_type": "execute_result"
    }
   ],
   "source": [
    "train.groupby(['단지코드']).nunique(dropna=False).sum(axis=0)"
   ]
  },
  {
   "cell_type": "code",
   "execution_count": 50,
   "id": "LVSNM_9STogD",
   "metadata": {
    "executionInfo": {
     "elapsed": 29,
     "status": "ok",
     "timestamp": 1627276611955,
     "user": {
      "displayName": "천지희",
      "photoUrl": "",
      "userId": "09169601570396658839"
     },
     "user_tz": -540
    },
    "id": "LVSNM_9STogD"
   },
   "outputs": [],
   "source": [
    "# 임대건물구분, 공급유형, 전용면적, 전용면적별세대수, 자격유형, 임대보증금, 임대료는 하나의 단지코드에 대해 둘 이상의 항목이 존재함.\n",
    "# 변수로 만들기"
   ]
  },
  {
   "cell_type": "markdown",
   "id": "b0Rx-aEnUpwj",
   "metadata": {
    "id": "b0Rx-aEnUpwj"
   },
   "source": [
    "# 단지코드 별 집계하기"
   ]
  },
  {
   "cell_type": "code",
   "execution_count": 51,
   "id": "rOmhTnbSUoXl",
   "metadata": {
    "executionInfo": {
     "elapsed": 29,
     "status": "ok",
     "timestamp": 1627276611955,
     "user": {
      "displayName": "천지희",
      "photoUrl": "",
      "userId": "09169601570396658839"
     },
     "user_tz": -540
    },
    "id": "rOmhTnbSUoXl"
   },
   "outputs": [],
   "source": [
    "# 하나의 단지코드에 하나의 값만 존재하는 변수들\n",
    "\n",
    "unique_cols = ['총세대수', '지역', '공가수', \n",
    "               '지하철',\n",
    "               '버스',\n",
    "               '단지내주차면수', '등록차량수']\n",
    "train_agg = train.set_index('단지코드')[unique_cols].drop_duplicates()\n",
    "test_agg = test.set_index('단지코드')[[col for col in unique_cols if col!='등록차량수']].drop_duplicates()"
   ]
  },
  {
   "cell_type": "code",
   "execution_count": 52,
   "id": "VziefeevU4kZ",
   "metadata": {
    "colab": {
     "base_uri": "https://localhost:8080/",
     "height": 450
    },
    "executionInfo": {
     "elapsed": 29,
     "status": "ok",
     "timestamp": 1627276611956,
     "user": {
      "displayName": "천지희",
      "photoUrl": "",
      "userId": "09169601570396658839"
     },
     "user_tz": -540
    },
    "id": "VziefeevU4kZ",
    "outputId": "87026cc4-f2db-4f87-f13e-6b2a658959b8"
   },
   "outputs": [
    {
     "data": {
      "text/html": [
       "<div>\n",
       "<style scoped>\n",
       "    .dataframe tbody tr th:only-of-type {\n",
       "        vertical-align: middle;\n",
       "    }\n",
       "\n",
       "    .dataframe tbody tr th {\n",
       "        vertical-align: top;\n",
       "    }\n",
       "\n",
       "    .dataframe thead th {\n",
       "        text-align: right;\n",
       "    }\n",
       "</style>\n",
       "<table border=\"1\" class=\"dataframe\">\n",
       "  <thead>\n",
       "    <tr style=\"text-align: right;\">\n",
       "      <th></th>\n",
       "      <th>총세대수</th>\n",
       "      <th>지역</th>\n",
       "      <th>공가수</th>\n",
       "      <th>지하철</th>\n",
       "      <th>버스</th>\n",
       "      <th>단지내주차면수</th>\n",
       "      <th>등록차량수</th>\n",
       "    </tr>\n",
       "    <tr>\n",
       "      <th>단지코드</th>\n",
       "      <th></th>\n",
       "      <th></th>\n",
       "      <th></th>\n",
       "      <th></th>\n",
       "      <th></th>\n",
       "      <th></th>\n",
       "      <th></th>\n",
       "    </tr>\n",
       "  </thead>\n",
       "  <tbody>\n",
       "    <tr>\n",
       "      <th>C2483</th>\n",
       "      <td>900</td>\n",
       "      <td>경상북도</td>\n",
       "      <td>38.0</td>\n",
       "      <td>0.0</td>\n",
       "      <td>3.0</td>\n",
       "      <td>1425.0</td>\n",
       "      <td>1015.0</td>\n",
       "    </tr>\n",
       "    <tr>\n",
       "      <th>C2515</th>\n",
       "      <td>545</td>\n",
       "      <td>경상남도</td>\n",
       "      <td>17.0</td>\n",
       "      <td>0.0</td>\n",
       "      <td>3.0</td>\n",
       "      <td>624.0</td>\n",
       "      <td>205.0</td>\n",
       "    </tr>\n",
       "    <tr>\n",
       "      <th>C1407</th>\n",
       "      <td>1216</td>\n",
       "      <td>대전광역시</td>\n",
       "      <td>13.0</td>\n",
       "      <td>1.0</td>\n",
       "      <td>1.0</td>\n",
       "      <td>1285.0</td>\n",
       "      <td>1064.0</td>\n",
       "    </tr>\n",
       "    <tr>\n",
       "      <th>C1945</th>\n",
       "      <td>755</td>\n",
       "      <td>경기도</td>\n",
       "      <td>6.0</td>\n",
       "      <td>1.0</td>\n",
       "      <td>3.0</td>\n",
       "      <td>734.0</td>\n",
       "      <td>730.0</td>\n",
       "    </tr>\n",
       "    <tr>\n",
       "      <th>C1470</th>\n",
       "      <td>696</td>\n",
       "      <td>전라북도</td>\n",
       "      <td>14.0</td>\n",
       "      <td>0.0</td>\n",
       "      <td>2.0</td>\n",
       "      <td>645.0</td>\n",
       "      <td>553.0</td>\n",
       "    </tr>\n",
       "    <tr>\n",
       "      <th>...</th>\n",
       "      <td>...</td>\n",
       "      <td>...</td>\n",
       "      <td>...</td>\n",
       "      <td>...</td>\n",
       "      <td>...</td>\n",
       "      <td>...</td>\n",
       "      <td>...</td>\n",
       "    </tr>\n",
       "    <tr>\n",
       "      <th>C2586</th>\n",
       "      <td>90</td>\n",
       "      <td>제주특별자치도</td>\n",
       "      <td>7.0</td>\n",
       "      <td>0.0</td>\n",
       "      <td>3.0</td>\n",
       "      <td>66.0</td>\n",
       "      <td>57.0</td>\n",
       "    </tr>\n",
       "    <tr>\n",
       "      <th>C2035</th>\n",
       "      <td>492</td>\n",
       "      <td>강원도</td>\n",
       "      <td>24.0</td>\n",
       "      <td>0.0</td>\n",
       "      <td>1.0</td>\n",
       "      <td>521.0</td>\n",
       "      <td>246.0</td>\n",
       "    </tr>\n",
       "    <tr>\n",
       "      <th>C2020</th>\n",
       "      <td>40</td>\n",
       "      <td>부산광역시</td>\n",
       "      <td>7.0</td>\n",
       "      <td>1.0</td>\n",
       "      <td>2.0</td>\n",
       "      <td>25.0</td>\n",
       "      <td>19.0</td>\n",
       "    </tr>\n",
       "    <tr>\n",
       "      <th>C2437</th>\n",
       "      <td>90</td>\n",
       "      <td>충청북도</td>\n",
       "      <td>12.0</td>\n",
       "      <td>0.0</td>\n",
       "      <td>1.0</td>\n",
       "      <td>30.0</td>\n",
       "      <td>16.0</td>\n",
       "    </tr>\n",
       "    <tr>\n",
       "      <th>C2532</th>\n",
       "      <td>239</td>\n",
       "      <td>강원도</td>\n",
       "      <td>7.0</td>\n",
       "      <td>0.0</td>\n",
       "      <td>1.0</td>\n",
       "      <td>166.0</td>\n",
       "      <td>146.0</td>\n",
       "    </tr>\n",
       "  </tbody>\n",
       "</table>\n",
       "<p>423 rows × 7 columns</p>\n",
       "</div>"
      ],
      "text/plain": [
       "       총세대수       지역   공가수  지하철   버스  단지내주차면수   등록차량수\n",
       "단지코드                                                 \n",
       "C2483   900     경상북도  38.0  0.0  3.0   1425.0  1015.0\n",
       "C2515   545     경상남도  17.0  0.0  3.0    624.0   205.0\n",
       "C1407  1216    대전광역시  13.0  1.0  1.0   1285.0  1064.0\n",
       "C1945   755      경기도   6.0  1.0  3.0    734.0   730.0\n",
       "C1470   696     전라북도  14.0  0.0  2.0    645.0   553.0\n",
       "...     ...      ...   ...  ...  ...      ...     ...\n",
       "C2586    90  제주특별자치도   7.0  0.0  3.0     66.0    57.0\n",
       "C2035   492      강원도  24.0  0.0  1.0    521.0   246.0\n",
       "C2020    40    부산광역시   7.0  1.0  2.0     25.0    19.0\n",
       "C2437    90     충청북도  12.0  0.0  1.0     30.0    16.0\n",
       "C2532   239      강원도   7.0  0.0  1.0    166.0   146.0\n",
       "\n",
       "[423 rows x 7 columns]"
      ]
     },
     "execution_count": 52,
     "metadata": {},
     "output_type": "execute_result"
    }
   ],
   "source": [
    "train_agg"
   ]
  },
  {
   "cell_type": "code",
   "execution_count": 53,
   "id": "OmJwT3ZbU62A",
   "metadata": {
    "colab": {
     "base_uri": "https://localhost:8080/",
     "height": 450
    },
    "executionInfo": {
     "elapsed": 28,
     "status": "ok",
     "timestamp": 1627276611956,
     "user": {
      "displayName": "천지희",
      "photoUrl": "",
      "userId": "09169601570396658839"
     },
     "user_tz": -540
    },
    "id": "OmJwT3ZbU62A",
    "outputId": "ef77116d-7737-47a2-d7ac-a07b17cf5087"
   },
   "outputs": [
    {
     "data": {
      "text/html": [
       "<div>\n",
       "<style scoped>\n",
       "    .dataframe tbody tr th:only-of-type {\n",
       "        vertical-align: middle;\n",
       "    }\n",
       "\n",
       "    .dataframe tbody tr th {\n",
       "        vertical-align: top;\n",
       "    }\n",
       "\n",
       "    .dataframe thead th {\n",
       "        text-align: right;\n",
       "    }\n",
       "</style>\n",
       "<table border=\"1\" class=\"dataframe\">\n",
       "  <thead>\n",
       "    <tr style=\"text-align: right;\">\n",
       "      <th></th>\n",
       "      <th>총세대수</th>\n",
       "      <th>지역</th>\n",
       "      <th>공가수</th>\n",
       "      <th>지하철</th>\n",
       "      <th>버스</th>\n",
       "      <th>단지내주차면수</th>\n",
       "    </tr>\n",
       "    <tr>\n",
       "      <th>단지코드</th>\n",
       "      <th></th>\n",
       "      <th></th>\n",
       "      <th></th>\n",
       "      <th></th>\n",
       "      <th></th>\n",
       "      <th></th>\n",
       "    </tr>\n",
       "  </thead>\n",
       "  <tbody>\n",
       "    <tr>\n",
       "      <th>C1072</th>\n",
       "      <td>754</td>\n",
       "      <td>경기도</td>\n",
       "      <td>14.0</td>\n",
       "      <td>0.0</td>\n",
       "      <td>2.0</td>\n",
       "      <td>683.0</td>\n",
       "    </tr>\n",
       "    <tr>\n",
       "      <th>C1128</th>\n",
       "      <td>1354</td>\n",
       "      <td>경기도</td>\n",
       "      <td>9.0</td>\n",
       "      <td>0.0</td>\n",
       "      <td>3.0</td>\n",
       "      <td>1216.0</td>\n",
       "    </tr>\n",
       "    <tr>\n",
       "      <th>C1456</th>\n",
       "      <td>619</td>\n",
       "      <td>부산광역시</td>\n",
       "      <td>18.0</td>\n",
       "      <td>0.0</td>\n",
       "      <td>16.0</td>\n",
       "      <td>547.0</td>\n",
       "    </tr>\n",
       "    <tr>\n",
       "      <th>C1840</th>\n",
       "      <td>593</td>\n",
       "      <td>전라북도</td>\n",
       "      <td>7.0</td>\n",
       "      <td>0.0</td>\n",
       "      <td>3.0</td>\n",
       "      <td>543.0</td>\n",
       "    </tr>\n",
       "    <tr>\n",
       "      <th>C1332</th>\n",
       "      <td>1297</td>\n",
       "      <td>경기도</td>\n",
       "      <td>11.0</td>\n",
       "      <td>0.0</td>\n",
       "      <td>2.0</td>\n",
       "      <td>1112.0</td>\n",
       "    </tr>\n",
       "    <tr>\n",
       "      <th>...</th>\n",
       "      <td>...</td>\n",
       "      <td>...</td>\n",
       "      <td>...</td>\n",
       "      <td>...</td>\n",
       "      <td>...</td>\n",
       "      <td>...</td>\n",
       "    </tr>\n",
       "    <tr>\n",
       "      <th>C2456</th>\n",
       "      <td>349</td>\n",
       "      <td>제주특별자치도</td>\n",
       "      <td>17.0</td>\n",
       "      <td>0.0</td>\n",
       "      <td>4.0</td>\n",
       "      <td>270.0</td>\n",
       "    </tr>\n",
       "    <tr>\n",
       "      <th>C1266</th>\n",
       "      <td>596</td>\n",
       "      <td>충청북도</td>\n",
       "      <td>35.0</td>\n",
       "      <td>0.0</td>\n",
       "      <td>1.0</td>\n",
       "      <td>593.0</td>\n",
       "    </tr>\n",
       "    <tr>\n",
       "      <th>C2152</th>\n",
       "      <td>120</td>\n",
       "      <td>강원도</td>\n",
       "      <td>9.0</td>\n",
       "      <td>0.0</td>\n",
       "      <td>1.0</td>\n",
       "      <td>40.0</td>\n",
       "    </tr>\n",
       "    <tr>\n",
       "      <th>C1267</th>\n",
       "      <td>675</td>\n",
       "      <td>경상남도</td>\n",
       "      <td>38.0</td>\n",
       "      <td>0.0</td>\n",
       "      <td>1.0</td>\n",
       "      <td>467.0</td>\n",
       "    </tr>\n",
       "    <tr>\n",
       "      <th>C2189</th>\n",
       "      <td>382</td>\n",
       "      <td>전라북도</td>\n",
       "      <td>45.0</td>\n",
       "      <td>0.0</td>\n",
       "      <td>2.0</td>\n",
       "      <td>300.0</td>\n",
       "    </tr>\n",
       "  </tbody>\n",
       "</table>\n",
       "<p>150 rows × 6 columns</p>\n",
       "</div>"
      ],
      "text/plain": [
       "       총세대수       지역   공가수  지하철    버스  단지내주차면수\n",
       "단지코드                                          \n",
       "C1072   754      경기도  14.0  0.0   2.0    683.0\n",
       "C1128  1354      경기도   9.0  0.0   3.0   1216.0\n",
       "C1456   619    부산광역시  18.0  0.0  16.0    547.0\n",
       "C1840   593     전라북도   7.0  0.0   3.0    543.0\n",
       "C1332  1297      경기도  11.0  0.0   2.0   1112.0\n",
       "...     ...      ...   ...  ...   ...      ...\n",
       "C2456   349  제주특별자치도  17.0  0.0   4.0    270.0\n",
       "C1266   596     충청북도  35.0  0.0   1.0    593.0\n",
       "C2152   120      강원도   9.0  0.0   1.0     40.0\n",
       "C1267   675     경상남도  38.0  0.0   1.0    467.0\n",
       "C2189   382     전라북도  45.0  0.0   2.0    300.0\n",
       "\n",
       "[150 rows x 6 columns]"
      ]
     },
     "execution_count": 53,
     "metadata": {},
     "output_type": "execute_result"
    }
   ],
   "source": [
    "test_agg"
   ]
  },
  {
   "cell_type": "code",
   "execution_count": 54,
   "id": "DdKe1MQwU8m6",
   "metadata": {
    "executionInfo": {
     "elapsed": 28,
     "status": "ok",
     "timestamp": 1627276611957,
     "user": {
      "displayName": "천지희",
      "photoUrl": "",
      "userId": "09169601570396658839"
     },
     "user_tz": -540
    },
    "id": "DdKe1MQwU8m6"
   },
   "outputs": [],
   "source": [
    "# 하나의 단지코드에 둘 이상의 값이 존재하는 변수들을 확인하기 위해서 함수만들기\n",
    "def reshape_cat_features(data, cast_col, value_col):\n",
    "    res = data.drop_duplicates(['단지코드', cast_col]).assign(counter=1).pivot(index='단지코드', columns=cast_col, values=value_col).fillna(0)\n",
    "    res.columns.name = None\n",
    "    res = res.rename(columns={col:cast_col+'_'+col for col in res.columns})\n",
    "    return res"
   ]
  },
  {
   "cell_type": "code",
   "execution_count": 55,
   "id": "beq5TK_HXDPo",
   "metadata": {
    "colab": {
     "base_uri": "https://localhost:8080/",
     "height": 450
    },
    "executionInfo": {
     "elapsed": 27,
     "status": "ok",
     "timestamp": 1627276611957,
     "user": {
      "displayName": "천지희",
      "photoUrl": "",
      "userId": "09169601570396658839"
     },
     "user_tz": -540
    },
    "id": "beq5TK_HXDPo",
    "outputId": "d289eb3a-02a0-4b71-c252-5756bea8fcc5"
   },
   "outputs": [
    {
     "data": {
      "text/html": [
       "<div>\n",
       "<style scoped>\n",
       "    .dataframe tbody tr th:only-of-type {\n",
       "        vertical-align: middle;\n",
       "    }\n",
       "\n",
       "    .dataframe tbody tr th {\n",
       "        vertical-align: top;\n",
       "    }\n",
       "\n",
       "    .dataframe thead th {\n",
       "        text-align: right;\n",
       "    }\n",
       "</style>\n",
       "<table border=\"1\" class=\"dataframe\">\n",
       "  <thead>\n",
       "    <tr style=\"text-align: right;\">\n",
       "      <th></th>\n",
       "      <th>임대건물구분_상가</th>\n",
       "      <th>임대건물구분_아파트</th>\n",
       "    </tr>\n",
       "    <tr>\n",
       "      <th>단지코드</th>\n",
       "      <th></th>\n",
       "      <th></th>\n",
       "    </tr>\n",
       "  </thead>\n",
       "  <tbody>\n",
       "    <tr>\n",
       "      <th>C1000</th>\n",
       "      <td>0.0</td>\n",
       "      <td>1.0</td>\n",
       "    </tr>\n",
       "    <tr>\n",
       "      <th>C1004</th>\n",
       "      <td>1.0</td>\n",
       "      <td>1.0</td>\n",
       "    </tr>\n",
       "    <tr>\n",
       "      <th>C1005</th>\n",
       "      <td>0.0</td>\n",
       "      <td>1.0</td>\n",
       "    </tr>\n",
       "    <tr>\n",
       "      <th>C1013</th>\n",
       "      <td>0.0</td>\n",
       "      <td>1.0</td>\n",
       "    </tr>\n",
       "    <tr>\n",
       "      <th>C1014</th>\n",
       "      <td>0.0</td>\n",
       "      <td>1.0</td>\n",
       "    </tr>\n",
       "    <tr>\n",
       "      <th>...</th>\n",
       "      <td>...</td>\n",
       "      <td>...</td>\n",
       "    </tr>\n",
       "    <tr>\n",
       "      <th>C2663</th>\n",
       "      <td>0.0</td>\n",
       "      <td>1.0</td>\n",
       "    </tr>\n",
       "    <tr>\n",
       "      <th>C2666</th>\n",
       "      <td>0.0</td>\n",
       "      <td>1.0</td>\n",
       "    </tr>\n",
       "    <tr>\n",
       "      <th>C2670</th>\n",
       "      <td>0.0</td>\n",
       "      <td>1.0</td>\n",
       "    </tr>\n",
       "    <tr>\n",
       "      <th>C2680</th>\n",
       "      <td>0.0</td>\n",
       "      <td>1.0</td>\n",
       "    </tr>\n",
       "    <tr>\n",
       "      <th>C2692</th>\n",
       "      <td>0.0</td>\n",
       "      <td>1.0</td>\n",
       "    </tr>\n",
       "  </tbody>\n",
       "</table>\n",
       "<p>423 rows × 2 columns</p>\n",
       "</div>"
      ],
      "text/plain": [
       "       임대건물구분_상가  임대건물구분_아파트\n",
       "단지코드                        \n",
       "C1000        0.0         1.0\n",
       "C1004        1.0         1.0\n",
       "C1005        0.0         1.0\n",
       "C1013        0.0         1.0\n",
       "C1014        0.0         1.0\n",
       "...          ...         ...\n",
       "C2663        0.0         1.0\n",
       "C2666        0.0         1.0\n",
       "C2670        0.0         1.0\n",
       "C2680        0.0         1.0\n",
       "C2692        0.0         1.0\n",
       "\n",
       "[423 rows x 2 columns]"
      ]
     },
     "execution_count": 55,
     "metadata": {},
     "output_type": "execute_result"
    }
   ],
   "source": [
    "# 1. 임대건물 구분하기\n",
    "reshape_cat_features(data=train, cast_col='임대건물구분', value_col='counter')"
   ]
  },
  {
   "cell_type": "code",
   "execution_count": 56,
   "id": "LnSE1tX6XIhC",
   "metadata": {
    "colab": {
     "base_uri": "https://localhost:8080/",
     "height": 359
    },
    "executionInfo": {
     "elapsed": 28,
     "status": "ok",
     "timestamp": 1627276611958,
     "user": {
      "displayName": "천지희",
      "photoUrl": "",
      "userId": "09169601570396658839"
     },
     "user_tz": -540
    },
    "id": "LnSE1tX6XIhC",
    "outputId": "8cd513a0-62f3-4b98-8971-92c298dffecf"
   },
   "outputs": [
    {
     "data": {
      "text/html": [
       "<div>\n",
       "<style scoped>\n",
       "    .dataframe tbody tr th:only-of-type {\n",
       "        vertical-align: middle;\n",
       "    }\n",
       "\n",
       "    .dataframe tbody tr th {\n",
       "        vertical-align: top;\n",
       "    }\n",
       "\n",
       "    .dataframe thead th {\n",
       "        text-align: right;\n",
       "    }\n",
       "</style>\n",
       "<table border=\"1\" class=\"dataframe\">\n",
       "  <thead>\n",
       "    <tr style=\"text-align: right;\">\n",
       "      <th></th>\n",
       "      <th>공급유형</th>\n",
       "      <th>공급유형</th>\n",
       "    </tr>\n",
       "  </thead>\n",
       "  <tbody>\n",
       "    <tr>\n",
       "      <th>국민임대</th>\n",
       "      <td>1730</td>\n",
       "      <td>619.0</td>\n",
       "    </tr>\n",
       "    <tr>\n",
       "      <th>임대상가</th>\n",
       "      <td>285</td>\n",
       "      <td>112.0</td>\n",
       "    </tr>\n",
       "    <tr>\n",
       "      <th>행복주택</th>\n",
       "      <td>203</td>\n",
       "      <td>121.0</td>\n",
       "    </tr>\n",
       "    <tr>\n",
       "      <th>공공임대(10년)</th>\n",
       "      <td>203</td>\n",
       "      <td>34.0</td>\n",
       "    </tr>\n",
       "    <tr>\n",
       "      <th>영구임대</th>\n",
       "      <td>149</td>\n",
       "      <td>44.0</td>\n",
       "    </tr>\n",
       "    <tr>\n",
       "      <th>공공임대(50년)</th>\n",
       "      <td>31</td>\n",
       "      <td>13.0</td>\n",
       "    </tr>\n",
       "    <tr>\n",
       "      <th>공공임대(분납)</th>\n",
       "      <td>12</td>\n",
       "      <td>6.0</td>\n",
       "    </tr>\n",
       "    <tr>\n",
       "      <th>장기전세</th>\n",
       "      <td>9</td>\n",
       "      <td>NaN</td>\n",
       "    </tr>\n",
       "    <tr>\n",
       "      <th>공공분양</th>\n",
       "      <td>7</td>\n",
       "      <td>NaN</td>\n",
       "    </tr>\n",
       "    <tr>\n",
       "      <th>공공임대(5년)</th>\n",
       "      <td>3</td>\n",
       "      <td>NaN</td>\n",
       "    </tr>\n",
       "  </tbody>\n",
       "</table>\n",
       "</div>"
      ],
      "text/plain": [
       "           공급유형   공급유형\n",
       "국민임대       1730  619.0\n",
       "임대상가        285  112.0\n",
       "행복주택        203  121.0\n",
       "공공임대(10년)   203   34.0\n",
       "영구임대        149   44.0\n",
       "공공임대(50년)    31   13.0\n",
       "공공임대(분납)     12    6.0\n",
       "장기전세          9    NaN\n",
       "공공분양          7    NaN\n",
       "공공임대(5년)      3    NaN"
      ]
     },
     "execution_count": 56,
     "metadata": {},
     "output_type": "execute_result"
    }
   ],
   "source": [
    "# 2. 공급유형\n",
    "pd.concat([train.공급유형.value_counts(), test.공급유형.value_counts()], axis=1)"
   ]
  },
  {
   "cell_type": "code",
   "execution_count": 57,
   "id": "t4IBJfVaXskb",
   "metadata": {
    "executionInfo": {
     "elapsed": 27,
     "status": "ok",
     "timestamp": 1627276611958,
     "user": {
      "displayName": "천지희",
      "photoUrl": "",
      "userId": "09169601570396658839"
     },
     "user_tz": -540
    },
    "id": "t4IBJfVaXskb"
   },
   "outputs": [],
   "source": [
    "# 공공임대 5년/10년/분양/분납 별로 합치기, 장기전세/국민임대 합치기\n",
    "train.loc[train.공급유형.isin(['공공임대(5년)', '공공분양', '공공임대(10년)', '공공임대(분납)']), '공급유형'] = '공공임대(5년/10년/분납/분양)'\n",
    "test.loc[test.공급유형.isin(['공공임대(5년)', '공공분양', '공공임대(10년)', '공공임대(분납)']), '공급유형'] = '공공임대(5년/10년/분납/분양)'\n",
    "train.loc[train.공급유형.isin(['장기전세', '국민임대']), '공급유형'] = '국민임대/장기전세'\n",
    "test.loc[test.공급유형.isin(['장기전세', '국민임대']), '공급유형'] = '국민임대/장기전세'"
   ]
  },
  {
   "cell_type": "code",
   "execution_count": 58,
   "id": "KMBTXAbdYGsF",
   "metadata": {
    "colab": {
     "base_uri": "https://localhost:8080/"
    },
    "executionInfo": {
     "elapsed": 28,
     "status": "ok",
     "timestamp": 1627276611959,
     "user": {
      "displayName": "천지희",
      "photoUrl": "",
      "userId": "09169601570396658839"
     },
     "user_tz": -540
    },
    "id": "KMBTXAbdYGsF",
    "outputId": "86822a3c-c6e9-4be2-a351-f74efb293dd5"
   },
   "outputs": [
    {
     "data": {
      "text/plain": [
       "{'공공임대(50년)', '공공임대(5년/10년/분납/분양)', '국민임대/장기전세', '영구임대', '임대상가', '행복주택'}"
      ]
     },
     "execution_count": 58,
     "metadata": {},
     "output_type": "execute_result"
    }
   ],
   "source": [
    "set(train.공급유형)"
   ]
  },
  {
   "cell_type": "code",
   "execution_count": 59,
   "id": "bela7J0uYOvc",
   "metadata": {
    "colab": {
     "base_uri": "https://localhost:8080/",
     "height": 484
    },
    "executionInfo": {
     "elapsed": 24,
     "status": "ok",
     "timestamp": 1627276611959,
     "user": {
      "displayName": "천지희",
      "photoUrl": "",
      "userId": "09169601570396658839"
     },
     "user_tz": -540
    },
    "id": "bela7J0uYOvc",
    "outputId": "e81b1a0b-ca44-4332-a16e-89d7f40180f2"
   },
   "outputs": [
    {
     "data": {
      "text/html": [
       "<div>\n",
       "<style scoped>\n",
       "    .dataframe tbody tr th:only-of-type {\n",
       "        vertical-align: middle;\n",
       "    }\n",
       "\n",
       "    .dataframe tbody tr th {\n",
       "        vertical-align: top;\n",
       "    }\n",
       "\n",
       "    .dataframe thead th {\n",
       "        text-align: right;\n",
       "    }\n",
       "</style>\n",
       "<table border=\"1\" class=\"dataframe\">\n",
       "  <thead>\n",
       "    <tr style=\"text-align: right;\">\n",
       "      <th></th>\n",
       "      <th>공급유형_공공임대(50년)</th>\n",
       "      <th>공급유형_공공임대(5년/10년/분납/분양)</th>\n",
       "      <th>공급유형_국민임대/장기전세</th>\n",
       "      <th>공급유형_영구임대</th>\n",
       "      <th>공급유형_임대상가</th>\n",
       "      <th>공급유형_행복주택</th>\n",
       "    </tr>\n",
       "    <tr>\n",
       "      <th>단지코드</th>\n",
       "      <th></th>\n",
       "      <th></th>\n",
       "      <th></th>\n",
       "      <th></th>\n",
       "      <th></th>\n",
       "      <th></th>\n",
       "    </tr>\n",
       "  </thead>\n",
       "  <tbody>\n",
       "    <tr>\n",
       "      <th>C1000</th>\n",
       "      <td>0.0</td>\n",
       "      <td>0.0</td>\n",
       "      <td>1.0</td>\n",
       "      <td>0.0</td>\n",
       "      <td>0.0</td>\n",
       "      <td>0.0</td>\n",
       "    </tr>\n",
       "    <tr>\n",
       "      <th>C1004</th>\n",
       "      <td>0.0</td>\n",
       "      <td>0.0</td>\n",
       "      <td>0.0</td>\n",
       "      <td>1.0</td>\n",
       "      <td>1.0</td>\n",
       "      <td>0.0</td>\n",
       "    </tr>\n",
       "    <tr>\n",
       "      <th>C1005</th>\n",
       "      <td>0.0</td>\n",
       "      <td>0.0</td>\n",
       "      <td>1.0</td>\n",
       "      <td>0.0</td>\n",
       "      <td>0.0</td>\n",
       "      <td>0.0</td>\n",
       "    </tr>\n",
       "    <tr>\n",
       "      <th>C1013</th>\n",
       "      <td>0.0</td>\n",
       "      <td>0.0</td>\n",
       "      <td>1.0</td>\n",
       "      <td>0.0</td>\n",
       "      <td>0.0</td>\n",
       "      <td>0.0</td>\n",
       "    </tr>\n",
       "    <tr>\n",
       "      <th>C1014</th>\n",
       "      <td>0.0</td>\n",
       "      <td>0.0</td>\n",
       "      <td>1.0</td>\n",
       "      <td>0.0</td>\n",
       "      <td>0.0</td>\n",
       "      <td>0.0</td>\n",
       "    </tr>\n",
       "    <tr>\n",
       "      <th>...</th>\n",
       "      <td>...</td>\n",
       "      <td>...</td>\n",
       "      <td>...</td>\n",
       "      <td>...</td>\n",
       "      <td>...</td>\n",
       "      <td>...</td>\n",
       "    </tr>\n",
       "    <tr>\n",
       "      <th>C2663</th>\n",
       "      <td>0.0</td>\n",
       "      <td>0.0</td>\n",
       "      <td>1.0</td>\n",
       "      <td>0.0</td>\n",
       "      <td>0.0</td>\n",
       "      <td>0.0</td>\n",
       "    </tr>\n",
       "    <tr>\n",
       "      <th>C2666</th>\n",
       "      <td>0.0</td>\n",
       "      <td>0.0</td>\n",
       "      <td>1.0</td>\n",
       "      <td>0.0</td>\n",
       "      <td>0.0</td>\n",
       "      <td>0.0</td>\n",
       "    </tr>\n",
       "    <tr>\n",
       "      <th>C2670</th>\n",
       "      <td>0.0</td>\n",
       "      <td>0.0</td>\n",
       "      <td>1.0</td>\n",
       "      <td>0.0</td>\n",
       "      <td>0.0</td>\n",
       "      <td>0.0</td>\n",
       "    </tr>\n",
       "    <tr>\n",
       "      <th>C2680</th>\n",
       "      <td>0.0</td>\n",
       "      <td>0.0</td>\n",
       "      <td>1.0</td>\n",
       "      <td>0.0</td>\n",
       "      <td>0.0</td>\n",
       "      <td>0.0</td>\n",
       "    </tr>\n",
       "    <tr>\n",
       "      <th>C2692</th>\n",
       "      <td>0.0</td>\n",
       "      <td>0.0</td>\n",
       "      <td>1.0</td>\n",
       "      <td>0.0</td>\n",
       "      <td>0.0</td>\n",
       "      <td>0.0</td>\n",
       "    </tr>\n",
       "  </tbody>\n",
       "</table>\n",
       "<p>423 rows × 6 columns</p>\n",
       "</div>"
      ],
      "text/plain": [
       "       공급유형_공공임대(50년)  공급유형_공공임대(5년/10년/분납/분양)  공급유형_국민임대/장기전세  공급유형_영구임대  \\\n",
       "단지코드                                                                        \n",
       "C1000             0.0                      0.0             1.0        0.0   \n",
       "C1004             0.0                      0.0             0.0        1.0   \n",
       "C1005             0.0                      0.0             1.0        0.0   \n",
       "C1013             0.0                      0.0             1.0        0.0   \n",
       "C1014             0.0                      0.0             1.0        0.0   \n",
       "...               ...                      ...             ...        ...   \n",
       "C2663             0.0                      0.0             1.0        0.0   \n",
       "C2666             0.0                      0.0             1.0        0.0   \n",
       "C2670             0.0                      0.0             1.0        0.0   \n",
       "C2680             0.0                      0.0             1.0        0.0   \n",
       "C2692             0.0                      0.0             1.0        0.0   \n",
       "\n",
       "       공급유형_임대상가  공급유형_행복주택  \n",
       "단지코드                         \n",
       "C1000        0.0        0.0  \n",
       "C1004        1.0        0.0  \n",
       "C1005        0.0        0.0  \n",
       "C1013        0.0        0.0  \n",
       "C1014        0.0        0.0  \n",
       "...          ...        ...  \n",
       "C2663        0.0        0.0  \n",
       "C2666        0.0        0.0  \n",
       "C2670        0.0        0.0  \n",
       "C2680        0.0        0.0  \n",
       "C2692        0.0        0.0  \n",
       "\n",
       "[423 rows x 6 columns]"
      ]
     },
     "execution_count": 59,
     "metadata": {},
     "output_type": "execute_result"
    }
   ],
   "source": [
    "reshape_cat_features(data=train, cast_col='공급유형', value_col='counter')"
   ]
  },
  {
   "cell_type": "code",
   "execution_count": 60,
   "id": "QovWuVhfYfu6",
   "metadata": {
    "colab": {
     "base_uri": "https://localhost:8080/",
     "height": 514
    },
    "executionInfo": {
     "elapsed": 408,
     "status": "ok",
     "timestamp": 1627276612343,
     "user": {
      "displayName": "천지희",
      "photoUrl": "",
      "userId": "09169601570396658839"
     },
     "user_tz": -540
    },
    "id": "QovWuVhfYfu6",
    "outputId": "5e136503-3b46-4f00-c1c3-4e8315b2fdac"
   },
   "outputs": [
    {
     "data": {
      "text/html": [
       "<div>\n",
       "<style scoped>\n",
       "    .dataframe tbody tr th:only-of-type {\n",
       "        vertical-align: middle;\n",
       "    }\n",
       "\n",
       "    .dataframe tbody tr th {\n",
       "        vertical-align: top;\n",
       "    }\n",
       "\n",
       "    .dataframe thead th {\n",
       "        text-align: right;\n",
       "    }\n",
       "</style>\n",
       "<table border=\"1\" class=\"dataframe\">\n",
       "  <thead>\n",
       "    <tr style=\"text-align: right;\">\n",
       "      <th></th>\n",
       "      <th>자격유형</th>\n",
       "      <th>자격유형</th>\n",
       "    </tr>\n",
       "  </thead>\n",
       "  <tbody>\n",
       "    <tr>\n",
       "      <th>A</th>\n",
       "      <td>1775</td>\n",
       "      <td>569.0</td>\n",
       "    </tr>\n",
       "    <tr>\n",
       "      <th>D</th>\n",
       "      <td>292</td>\n",
       "      <td>114.0</td>\n",
       "    </tr>\n",
       "    <tr>\n",
       "      <th>H</th>\n",
       "      <td>154</td>\n",
       "      <td>92.0</td>\n",
       "    </tr>\n",
       "    <tr>\n",
       "      <th>J</th>\n",
       "      <td>105</td>\n",
       "      <td>81.0</td>\n",
       "    </tr>\n",
       "    <tr>\n",
       "      <th>C</th>\n",
       "      <td>92</td>\n",
       "      <td>35.0</td>\n",
       "    </tr>\n",
       "    <tr>\n",
       "      <th>I</th>\n",
       "      <td>49</td>\n",
       "      <td>7.0</td>\n",
       "    </tr>\n",
       "    <tr>\n",
       "      <th>E</th>\n",
       "      <td>37</td>\n",
       "      <td>10.0</td>\n",
       "    </tr>\n",
       "    <tr>\n",
       "      <th>K</th>\n",
       "      <td>33</td>\n",
       "      <td>16.0</td>\n",
       "    </tr>\n",
       "    <tr>\n",
       "      <th>L</th>\n",
       "      <td>33</td>\n",
       "      <td>12.0</td>\n",
       "    </tr>\n",
       "    <tr>\n",
       "      <th>N</th>\n",
       "      <td>29</td>\n",
       "      <td>10.0</td>\n",
       "    </tr>\n",
       "    <tr>\n",
       "      <th>B</th>\n",
       "      <td>18</td>\n",
       "      <td>NaN</td>\n",
       "    </tr>\n",
       "    <tr>\n",
       "      <th>G</th>\n",
       "      <td>9</td>\n",
       "      <td>1.0</td>\n",
       "    </tr>\n",
       "    <tr>\n",
       "      <th>F</th>\n",
       "      <td>3</td>\n",
       "      <td>NaN</td>\n",
       "    </tr>\n",
       "    <tr>\n",
       "      <th>M</th>\n",
       "      <td>2</td>\n",
       "      <td>2.0</td>\n",
       "    </tr>\n",
       "    <tr>\n",
       "      <th>O</th>\n",
       "      <td>1</td>\n",
       "      <td>NaN</td>\n",
       "    </tr>\n",
       "  </tbody>\n",
       "</table>\n",
       "</div>"
      ],
      "text/plain": [
       "   자격유형   자격유형\n",
       "A  1775  569.0\n",
       "D   292  114.0\n",
       "H   154   92.0\n",
       "J   105   81.0\n",
       "C    92   35.0\n",
       "I    49    7.0\n",
       "E    37   10.0\n",
       "K    33   16.0\n",
       "L    33   12.0\n",
       "N    29   10.0\n",
       "B    18    NaN\n",
       "G     9    1.0\n",
       "F     3    NaN\n",
       "M     2    2.0\n",
       "O     1    NaN"
      ]
     },
     "execution_count": 60,
     "metadata": {},
     "output_type": "execute_result"
    }
   ],
   "source": [
    "pd.concat([train.자격유형.value_counts(),  test.자격유형.value_counts()], axis=1)\n",
    "# 'B', 'F','O'는 test셋에 없음을 확인."
   ]
  },
  {
   "cell_type": "code",
   "execution_count": 61,
   "id": "NRo_PtZRYgTC",
   "metadata": {
    "colab": {
     "base_uri": "https://localhost:8080/",
     "height": 80
    },
    "executionInfo": {
     "elapsed": 49,
     "status": "ok",
     "timestamp": 1627276612346,
     "user": {
      "displayName": "천지희",
      "photoUrl": "",
      "userId": "09169601570396658839"
     },
     "user_tz": -540
    },
    "id": "NRo_PtZRYgTC",
    "outputId": "cee88d9e-07f8-4db3-83fb-94caf5346a4c"
   },
   "outputs": [
    {
     "data": {
      "text/html": [
       "<div>\n",
       "<style scoped>\n",
       "    .dataframe tbody tr th:only-of-type {\n",
       "        vertical-align: middle;\n",
       "    }\n",
       "\n",
       "    .dataframe tbody tr th {\n",
       "        vertical-align: top;\n",
       "    }\n",
       "\n",
       "    .dataframe thead th {\n",
       "        text-align: right;\n",
       "    }\n",
       "</style>\n",
       "<table border=\"1\" class=\"dataframe\">\n",
       "  <thead>\n",
       "    <tr style=\"text-align: right;\">\n",
       "      <th></th>\n",
       "      <th>임대건물구분</th>\n",
       "      <th>공급유형</th>\n",
       "    </tr>\n",
       "  </thead>\n",
       "  <tbody>\n",
       "    <tr>\n",
       "      <th>26</th>\n",
       "      <td>아파트</td>\n",
       "      <td>국민임대/장기전세</td>\n",
       "    </tr>\n",
       "  </tbody>\n",
       "</table>\n",
       "</div>"
      ],
      "text/plain": [
       "   임대건물구분       공급유형\n",
       "26    아파트  국민임대/장기전세"
      ]
     },
     "execution_count": 61,
     "metadata": {},
     "output_type": "execute_result"
    }
   ],
   "source": [
    "train.loc[train.자격유형=='B', ['임대건물구분', '공급유형']].drop_duplicates()"
   ]
  },
  {
   "cell_type": "markdown",
   "id": "jmfM_l9yVo9M",
   "metadata": {
    "id": "jmfM_l9yVo9M"
   },
   "source": [
    "국민임대/장기전세\n",
    "\n",
    "* (일반)해당지역 거주 무주택세대구성원\n",
    "*(특별/우선)3자녀 이상 가구\n",
    "*(특별/우선)국가유공자\n",
    "*(특별/우선)영구임대 입주자\n",
    "*(특별/우선)비닐간이공작물 거주자\n",
    "*(특별/우선)신혼부부(혼인기간 5년이내)\n",
    "*(특별/우선)사업지구 철거민\n",
    "*(특별/우선)기타 공급대상(고령자, 노부모부양자, 장애인, 파독근로자 등)"
   ]
  },
  {
   "cell_type": "code",
   "execution_count": 62,
   "id": "tr751lVnY8ff",
   "metadata": {
    "colab": {
     "base_uri": "https://localhost:8080/"
    },
    "executionInfo": {
     "elapsed": 49,
     "status": "ok",
     "timestamp": 1627276612347,
     "user": {
      "displayName": "천지희",
      "photoUrl": "",
      "userId": "09169601570396658839"
     },
     "user_tz": -540
    },
    "id": "tr751lVnY8ff",
    "outputId": "5a7c2d93-71cc-4354-afe2-3f6ffdf890b4"
   },
   "outputs": [
    {
     "data": {
      "text/plain": [
       "A    1524\n",
       "H     154\n",
       "E      34\n",
       "B      18\n",
       "G       9\n",
       "Name: 자격유형, dtype: int64"
      ]
     },
     "execution_count": 62,
     "metadata": {},
     "output_type": "execute_result"
    }
   ],
   "source": [
    "# '국민임대/장기전세'의 자격유형 알아보기\n",
    "train.loc[train.공급유형.isin(['국민임대/장기전세']), '자격유형'].value_counts()\n",
    "# 제일 많은 A가 (일반) 해당지역 거주 무주택세대구성원일 것으로 추정함."
   ]
  },
  {
   "cell_type": "markdown",
   "id": "L3kofSu9V7Bz",
   "metadata": {
    "id": "L3kofSu9V7Bz"
   },
   "source": [
    "영구임대\n",
    "\n",
    "* (일반)생계급여 또는 의료급여 수급자\n",
    "*(일반)국가유공자\n",
    "*(특별/우선)수급자 선정기준의 소득인정액 이하인 국가유공자\n",
    "*(특별/우선)귀환국군포로\n",
    "*(특별/우선)수급자 신혼부부"
   ]
  },
  {
   "cell_type": "code",
   "execution_count": 63,
   "id": "LWl80JD-VwIB",
   "metadata": {
    "colab": {
     "base_uri": "https://localhost:8080/"
    },
    "executionInfo": {
     "elapsed": 45,
     "status": "ok",
     "timestamp": 1627276612347,
     "user": {
      "displayName": "천지희",
      "photoUrl": "",
      "userId": "09169601570396658839"
     },
     "user_tz": -540
    },
    "id": "LWl80JD-VwIB",
    "outputId": "6e03c603-9cec-4e49-ea89-1c110d4619c1"
   },
   "outputs": [
    {
     "data": {
      "text/plain": [
       "C    92\n",
       "I    49\n",
       "E     3\n",
       "F     3\n",
       "A     2\n",
       "Name: 자격유형, dtype: int64"
      ]
     },
     "execution_count": 63,
     "metadata": {},
     "output_type": "execute_result"
    }
   ],
   "source": [
    "train.loc[train.공급유형.isin(['영구임대']), '자격유형'].value_counts()"
   ]
  },
  {
   "cell_type": "markdown",
   "id": "knpwaGsIWG2M",
   "metadata": {
    "id": "knpwaGsIWG2M"
   },
   "source": [
    "공공임대(5년/10년/분납/분양)\n",
    "\n",
    "* (일반)해당지역 거주무주택세대구성원\n",
    "*(특별/우선)다자녀 특별\n",
    "*(특별/우선)신혼부부 특별\n",
    "*(특별/우선)생애최초 특별\n",
    "*(특별/우선)노부모부양 특별\n",
    "*(특별/우선)국가유공자 특별\n",
    "*(특별/우선)기타 특별(장애인, 철거민 등)\n",
    "A는 '(일반)해당지역 거주무주택세대구성원'으로 추정됨"
   ]
  },
  {
   "cell_type": "code",
   "execution_count": 64,
   "id": "qu_EXIyjWDPM",
   "metadata": {
    "colab": {
     "base_uri": "https://localhost:8080/"
    },
    "executionInfo": {
     "elapsed": 43,
     "status": "ok",
     "timestamp": 1627276612348,
     "user": {
      "displayName": "천지희",
      "photoUrl": "",
      "userId": "09169601570396658839"
     },
     "user_tz": -540
    },
    "id": "qu_EXIyjWDPM",
    "outputId": "f2e9dae7-9600-4bc9-9fbc-baa6ebc75204"
   },
   "outputs": [
    {
     "data": {
      "text/plain": [
       "A    218\n",
       "D      7\n",
       "Name: 자격유형, dtype: int64"
      ]
     },
     "execution_count": 64,
     "metadata": {},
     "output_type": "execute_result"
    }
   ],
   "source": [
    "train.loc[train.공급유형.isin(['공공임대(5년/10년/분납/분양)']), '자격유형'].value_counts()\n",
    "# A는 (일반)해당지역 거주 무주택세대구성원으로 추정함"
   ]
  },
  {
   "cell_type": "markdown",
   "id": "WnImHfnkWUhc",
   "metadata": {
    "id": "WnImHfnkWUhc"
   },
   "source": [
    "행복주택\n",
    "\n",
    "대학생(취준생 포함), 사회초년생(제취준생 포함), 신혼부부(예비신혼부부, 대학생, 취준생 신혼부부 포함), 고령자, 주거급여수급자, 산업단지 근로자"
   ]
  },
  {
   "cell_type": "code",
   "execution_count": 65,
   "id": "4aeOLjN2WmpK",
   "metadata": {
    "colab": {
     "base_uri": "https://localhost:8080/"
    },
    "executionInfo": {
     "elapsed": 40,
     "status": "ok",
     "timestamp": 1627276612348,
     "user": {
      "displayName": "천지희",
      "photoUrl": "",
      "userId": "09169601570396658839"
     },
     "user_tz": -540
    },
    "id": "4aeOLjN2WmpK",
    "outputId": "cf842caf-ceeb-4193-e755-ad71c85c028d"
   },
   "outputs": [
    {
     "data": {
      "text/plain": [
       "J    105\n",
       "L     33\n",
       "K     33\n",
       "N     29\n",
       "M      2\n",
       "O      1\n",
       "Name: 자격유형, dtype: int64"
      ]
     },
     "execution_count": 65,
     "metadata": {},
     "output_type": "execute_result"
    }
   ],
   "source": [
    "train.loc[train.공급유형.isin(['행복주택']), '자격유형'].value_counts()\n",
    "# 6개 유형일 일치할것으로 추정하고 하나로 매핑하기"
   ]
  },
  {
   "cell_type": "code",
   "execution_count": 66,
   "id": "etXqMHmOWhAg",
   "metadata": {
    "executionInfo": {
     "elapsed": 38,
     "status": "ok",
     "timestamp": 1627276612349,
     "user": {
      "displayName": "천지희",
      "photoUrl": "",
      "userId": "09169601570396658839"
     },
     "user_tz": -540
    },
    "id": "etXqMHmOWhAg"
   },
   "outputs": [],
   "source": [
    "train.loc[train.자격유형.isin(['J', 'L', 'K', 'N', 'M', 'O']), '자격유형'] = '행복주택_공급대상'\n",
    "test.loc[test.자격유형.isin(['J', 'L', 'K', 'N', 'M', 'O']), '자격유형'] = '행복주택_공급대상'"
   ]
  },
  {
   "cell_type": "code",
   "execution_count": 67,
   "id": "HBKJ50hvd0ln",
   "metadata": {
    "colab": {
     "base_uri": "https://localhost:8080/"
    },
    "executionInfo": {
     "elapsed": 38,
     "status": "ok",
     "timestamp": 1627276612349,
     "user": {
      "displayName": "천지희",
      "photoUrl": "",
      "userId": "09169601570396658839"
     },
     "user_tz": -540
    },
    "id": "HBKJ50hvd0ln",
    "outputId": "1578dad8-2e07-4c58-9f0b-746d33db38e1"
   },
   "outputs": [
    {
     "data": {
      "text/plain": [
       "국민임대/장기전세             1524\n",
       "공공임대(5년/10년/분납/분양)     218\n",
       "공공임대(50년)               31\n",
       "영구임대                     2\n",
       "Name: 공급유형, dtype: int64"
      ]
     },
     "execution_count": 67,
     "metadata": {},
     "output_type": "execute_result"
    }
   ],
   "source": [
    "train.loc[train.자격유형.isin(['A']), '공급유형'].value_counts()"
   ]
  },
  {
   "cell_type": "code",
   "execution_count": 68,
   "id": "IUMa5c6wd2xy",
   "metadata": {
    "colab": {
     "base_uri": "https://localhost:8080/"
    },
    "executionInfo": {
     "elapsed": 35,
     "status": "ok",
     "timestamp": 1627276612349,
     "user": {
      "displayName": "천지희",
      "photoUrl": "",
      "userId": "09169601570396658839"
     },
     "user_tz": -540
    },
    "id": "IUMa5c6wd2xy",
    "outputId": "0028cd0a-2b97-436b-c8c0-0fe613f3dbce"
   },
   "outputs": [
    {
     "data": {
      "text/plain": [
       "임대상가                  285\n",
       "공공임대(5년/10년/분납/분양)      7\n",
       "Name: 공급유형, dtype: int64"
      ]
     },
     "execution_count": 68,
     "metadata": {},
     "output_type": "execute_result"
    }
   ],
   "source": [
    "train.loc[train.자격유형.isin(['D']), '공급유형'].value_counts()"
   ]
  },
  {
   "cell_type": "code",
   "execution_count": 69,
   "id": "HydTpW2QeoZ1",
   "metadata": {
    "colab": {
     "base_uri": "https://localhost:8080/"
    },
    "executionInfo": {
     "elapsed": 34,
     "status": "ok",
     "timestamp": 1627276612350,
     "user": {
      "displayName": "천지희",
      "photoUrl": "",
      "userId": "09169601570396658839"
     },
     "user_tz": -540
    },
    "id": "HydTpW2QeoZ1",
    "outputId": "2fbca909-a4c1-4d19-c241-54b6adb6087f"
   },
   "outputs": [
    {
     "data": {
      "text/plain": [
       "국민임대/장기전세    18\n",
       "Name: 공급유형, dtype: int64"
      ]
     },
     "execution_count": 69,
     "metadata": {},
     "output_type": "execute_result"
    }
   ],
   "source": [
    "train.loc[train.자격유형.isin(['B']), '공급유형'].value_counts()"
   ]
  },
  {
   "cell_type": "code",
   "execution_count": 70,
   "id": "0HBJMpkle-HI",
   "metadata": {
    "colab": {
     "base_uri": "https://localhost:8080/"
    },
    "executionInfo": {
     "elapsed": 32,
     "status": "ok",
     "timestamp": 1627276612350,
     "user": {
      "displayName": "천지희",
      "photoUrl": "",
      "userId": "09169601570396658839"
     },
     "user_tz": -540
    },
    "id": "0HBJMpkle-HI",
    "outputId": "0a2d0190-2803-4ef4-bfd6-94ffae13c9db"
   },
   "outputs": [
    {
     "data": {
      "text/plain": [
       "국민임대/장기전세    34\n",
       "영구임대          3\n",
       "Name: 공급유형, dtype: int64"
      ]
     },
     "execution_count": 70,
     "metadata": {},
     "output_type": "execute_result"
    }
   ],
   "source": [
    "train.loc[train.자격유형.isin(['E']), '공급유형'].value_counts()"
   ]
  },
  {
   "cell_type": "code",
   "execution_count": 71,
   "id": "RxHzTBhKfCIP",
   "metadata": {
    "colab": {
     "base_uri": "https://localhost:8080/"
    },
    "executionInfo": {
     "elapsed": 30,
     "status": "ok",
     "timestamp": 1627276612350,
     "user": {
      "displayName": "천지희",
      "photoUrl": "",
      "userId": "09169601570396658839"
     },
     "user_tz": -540
    },
    "id": "RxHzTBhKfCIP",
    "outputId": "86729f44-f142-43ea-ca19-16b4e2826f0d"
   },
   "outputs": [
    {
     "data": {
      "text/plain": [
       "국민임대/장기전세    9\n",
       "Name: 공급유형, dtype: int64"
      ]
     },
     "execution_count": 71,
     "metadata": {},
     "output_type": "execute_result"
    }
   ],
   "source": [
    "train.loc[train.자격유형.isin(['G']), '공급유형'].value_counts()"
   ]
  },
  {
   "cell_type": "code",
   "execution_count": 72,
   "id": "nr6gQgzffEet",
   "metadata": {
    "executionInfo": {
     "elapsed": 25,
     "status": "ok",
     "timestamp": 1627276612351,
     "user": {
      "displayName": "천지희",
      "photoUrl": "",
      "userId": "09169601570396658839"
     },
     "user_tz": -540
    },
    "id": "nr6gQgzffEet"
   },
   "outputs": [],
   "source": [
    "# 'H', 'B', 'E', 'G' 는 국민임대/장기전세 공급대상(E는 영구임대인 경우도 있긴 하지만 국민임대/장기전세인 경우가 더 많아서 여기에 포함시킴)으로 묶기\n",
    "\n",
    "train.loc[train.자격유형.isin(['H', 'B', 'E', 'G']), '자격유형'] = '국민임대/장기전세_공급대상'\n",
    "test.loc[test.자격유형.isin(['H', 'B', 'E', 'G']), '자격유형'] = '국민임대/장기전세_공급대상'"
   ]
  },
  {
   "cell_type": "code",
   "execution_count": 73,
   "id": "2PgJk-a8eiW9",
   "metadata": {
    "colab": {
     "base_uri": "https://localhost:8080/"
    },
    "executionInfo": {
     "elapsed": 24,
     "status": "ok",
     "timestamp": 1627276612351,
     "user": {
      "displayName": "천지희",
      "photoUrl": "",
      "userId": "09169601570396658839"
     },
     "user_tz": -540
    },
    "id": "2PgJk-a8eiW9",
    "outputId": "02869b08-a224-414b-f7f3-8d0192b96e1d"
   },
   "outputs": [
    {
     "data": {
      "text/plain": [
       "Series([], Name: 공급유형, dtype: int64)"
      ]
     },
     "execution_count": 73,
     "metadata": {},
     "output_type": "execute_result"
    }
   ],
   "source": [
    "train.loc[train.자격유형.isin(['H']), '공급유형'].value_counts()"
   ]
  },
  {
   "cell_type": "code",
   "execution_count": 74,
   "id": "OZy25RwjflNX",
   "metadata": {
    "colab": {
     "base_uri": "https://localhost:8080/"
    },
    "executionInfo": {
     "elapsed": 22,
     "status": "ok",
     "timestamp": 1627276612352,
     "user": {
      "displayName": "천지희",
      "photoUrl": "",
      "userId": "09169601570396658839"
     },
     "user_tz": -540
    },
    "id": "OZy25RwjflNX",
    "outputId": "ea15839d-9daa-4bc6-fb54-03c5eb675193"
   },
   "outputs": [
    {
     "data": {
      "text/plain": [
       "영구임대    92\n",
       "Name: 공급유형, dtype: int64"
      ]
     },
     "execution_count": 74,
     "metadata": {},
     "output_type": "execute_result"
    }
   ],
   "source": [
    "train.loc[train.자격유형.isin(['C']), '공급유형'].value_counts()"
   ]
  },
  {
   "cell_type": "code",
   "execution_count": 75,
   "id": "JYYgLeP6fnpd",
   "metadata": {
    "colab": {
     "base_uri": "https://localhost:8080/"
    },
    "executionInfo": {
     "elapsed": 20,
     "status": "ok",
     "timestamp": 1627276612352,
     "user": {
      "displayName": "천지희",
      "photoUrl": "",
      "userId": "09169601570396658839"
     },
     "user_tz": -540
    },
    "id": "JYYgLeP6fnpd",
    "outputId": "c222def6-46fb-4054-ec51-15aebeae5719"
   },
   "outputs": [
    {
     "data": {
      "text/plain": [
       "영구임대    3\n",
       "Name: 공급유형, dtype: int64"
      ]
     },
     "execution_count": 75,
     "metadata": {},
     "output_type": "execute_result"
    }
   ],
   "source": [
    "train.loc[train.자격유형.isin(['F']), '공급유형'].value_counts()"
   ]
  },
  {
   "cell_type": "code",
   "execution_count": 76,
   "id": "xp5saaKZfvj0",
   "metadata": {
    "colab": {
     "base_uri": "https://localhost:8080/"
    },
    "executionInfo": {
     "elapsed": 291,
     "status": "ok",
     "timestamp": 1627276612625,
     "user": {
      "displayName": "천지희",
      "photoUrl": "",
      "userId": "09169601570396658839"
     },
     "user_tz": -540
    },
    "id": "xp5saaKZfvj0",
    "outputId": "b7ef58c5-e13d-46ad-ecf3-238be609fceb"
   },
   "outputs": [
    {
     "data": {
      "text/plain": [
       "영구임대    49\n",
       "Name: 공급유형, dtype: int64"
      ]
     },
     "execution_count": 76,
     "metadata": {},
     "output_type": "execute_result"
    }
   ],
   "source": [
    "train.loc[train.자격유형.isin(['I']), '공급유형'].value_counts()"
   ]
  },
  {
   "cell_type": "code",
   "execution_count": 77,
   "id": "yKFAxKScf9JU",
   "metadata": {
    "executionInfo": {
     "elapsed": 11,
     "status": "ok",
     "timestamp": 1627276612626,
     "user": {
      "displayName": "천지희",
      "photoUrl": "",
      "userId": "09169601570396658839"
     },
     "user_tz": -540
    },
    "id": "yKFAxKScf9JU"
   },
   "outputs": [],
   "source": [
    "# 'C', 'I', 'F'는 영구임대 공급대상으로 묶어보기\n",
    "train.loc[train.자격유형.isin(['C', 'I', 'F']), '자격유형'] = '영구임대_공급대상'\n",
    "test.loc[test.자격유형.isin(['C', 'I', 'F']), '자격유형'] = '영구임대_공급대상'"
   ]
  },
  {
   "cell_type": "code",
   "execution_count": 78,
   "id": "6oyyXK2NWcIp",
   "metadata": {
    "colab": {
     "base_uri": "https://localhost:8080/"
    },
    "executionInfo": {
     "elapsed": 11,
     "status": "ok",
     "timestamp": 1627276612627,
     "user": {
      "displayName": "천지희",
      "photoUrl": "",
      "userId": "09169601570396658839"
     },
     "user_tz": -540
    },
    "id": "6oyyXK2NWcIp",
    "outputId": "e25e3342-19db-4e4a-d85c-bff8c4a83406"
   },
   "outputs": [
    {
     "data": {
      "text/plain": [
       "Series([], Name: 공급유형, dtype: int64)"
      ]
     },
     "execution_count": 78,
     "metadata": {},
     "output_type": "execute_result"
    }
   ],
   "source": [
    "train.loc[train.자격유형.isin(['J', 'K', 'L', 'M', 'N', 'O']), '공급유형'].value_counts()"
   ]
  },
  {
   "cell_type": "code",
   "execution_count": 79,
   "id": "TEQPUZ6zg6u3",
   "metadata": {
    "colab": {
     "base_uri": "https://localhost:8080/",
     "height": 204
    },
    "executionInfo": {
     "elapsed": 11,
     "status": "ok",
     "timestamp": 1627276612628,
     "user": {
      "displayName": "천지희",
      "photoUrl": "",
      "userId": "09169601570396658839"
     },
     "user_tz": -540
    },
    "id": "TEQPUZ6zg6u3",
    "outputId": "807c89f5-e494-4f39-e99b-bf39932b4781"
   },
   "outputs": [
    {
     "data": {
      "text/html": [
       "<div>\n",
       "<style scoped>\n",
       "    .dataframe tbody tr th:only-of-type {\n",
       "        vertical-align: middle;\n",
       "    }\n",
       "\n",
       "    .dataframe tbody tr th {\n",
       "        vertical-align: top;\n",
       "    }\n",
       "\n",
       "    .dataframe thead th {\n",
       "        text-align: right;\n",
       "    }\n",
       "</style>\n",
       "<table border=\"1\" class=\"dataframe\">\n",
       "  <thead>\n",
       "    <tr style=\"text-align: right;\">\n",
       "      <th></th>\n",
       "      <th>자격유형</th>\n",
       "      <th>자격유형</th>\n",
       "    </tr>\n",
       "  </thead>\n",
       "  <tbody>\n",
       "    <tr>\n",
       "      <th>A</th>\n",
       "      <td>1775</td>\n",
       "      <td>569</td>\n",
       "    </tr>\n",
       "    <tr>\n",
       "      <th>D</th>\n",
       "      <td>292</td>\n",
       "      <td>114</td>\n",
       "    </tr>\n",
       "    <tr>\n",
       "      <th>국민임대/장기전세_공급대상</th>\n",
       "      <td>218</td>\n",
       "      <td>103</td>\n",
       "    </tr>\n",
       "    <tr>\n",
       "      <th>행복주택_공급대상</th>\n",
       "      <td>203</td>\n",
       "      <td>121</td>\n",
       "    </tr>\n",
       "    <tr>\n",
       "      <th>영구임대_공급대상</th>\n",
       "      <td>144</td>\n",
       "      <td>42</td>\n",
       "    </tr>\n",
       "  </tbody>\n",
       "</table>\n",
       "</div>"
      ],
      "text/plain": [
       "                자격유형  자격유형\n",
       "A               1775   569\n",
       "D                292   114\n",
       "국민임대/장기전세_공급대상   218   103\n",
       "행복주택_공급대상        203   121\n",
       "영구임대_공급대상        144    42"
      ]
     },
     "execution_count": 79,
     "metadata": {},
     "output_type": "execute_result"
    }
   ],
   "source": [
    "pd.concat([train.자격유형.value_counts(), test.자격유형.value_counts()], axis=1)"
   ]
  },
  {
   "cell_type": "markdown",
   "id": "L_RSCX89y3Hu",
   "metadata": {
    "id": "L_RSCX89y3Hu"
   },
   "source": [
    "# Age_gender_info 데이터 살펴보기"
   ]
  },
  {
   "cell_type": "code",
   "execution_count": 80,
   "id": "deTNzYcoy2fZ",
   "metadata": {
    "executionInfo": {
     "elapsed": 11,
     "status": "ok",
     "timestamp": 1627276612629,
     "user": {
      "displayName": "천지희",
      "photoUrl": "",
      "userId": "09169601570396658839"
     },
     "user_tz": -540
    },
    "id": "deTNzYcoy2fZ"
   },
   "outputs": [],
   "source": [
    "ag = age_gender.set_index('지역')"
   ]
  },
  {
   "cell_type": "markdown",
   "id": "_4uFZYwl3GCm",
   "metadata": {
    "id": "_4uFZYwl3GCm"
   },
   "source": [
    "* 인구가 많은 특별시, 광역시에서 60~70대의 비중이 높은 것을 알 수 있음. (서울, 부산, 울산, 대구 등)\n",
    "* 세종은 청년층 20~30대의 비중이 매우 높게 형성되어 있음.\n",
    "* 광역시(세종 제외)와 도단위 지역구의 평균을 비교했을 때, 10대와 40대, 60~70대에서 차이가 두드러짐."
   ]
  },
  {
   "cell_type": "code",
   "execution_count": 81,
   "id": "BTMTfDj3iafE",
   "metadata": {
    "colab": {
     "base_uri": "https://localhost:8080/",
     "height": 635
    },
    "executionInfo": {
     "elapsed": 4639,
     "status": "ok",
     "timestamp": 1627276628939,
     "user": {
      "displayName": "천지희",
      "photoUrl": "",
      "userId": "09169601570396658839"
     },
     "user_tz": -540
    },
    "id": "BTMTfDj3iafE",
    "outputId": "fbe324a3-ec90-4325-bc27-6f5bcbdf82ce"
   },
   "outputs": [
    {
     "data": {
      "image/png": "[encoded data removed]",
      "text/plain": [
       "<Figure size 1584x1296 with 16 Axes>"
      ]
     },
     "metadata": {
      "needs_background": "light"
     },
     "output_type": "display_data"
    }
   ],
   "source": [
    "fig = plt.figure(figsize=(22, 18))\n",
    "plt.xticks(rotation=90)\n",
    "for i, n in enumerate(list(ag.index)):\n",
    "    plt.subplot(5, 5, i+1)\n",
    "    plt.subplots_adjust(hspace=1.0)\n",
    "    plt.title(\"{} 인구비중\".format(n))\n",
    "    sns.barplot(data=ag.loc[ag.index == n])\n",
    "    plt.xticks(rotation=90)"
   ]
  }
 ],
 "metadata": {
  "colab": {
   "collapsed_sections": [],
   "name": "Untitled.ipynb",
   "provenance": []
  },
  "kernelspec": {
   "display_name": "Python 3",
   "language": "python",
   "name": "python3"
  },
  "language_info": {
   "codemirror_mode": {
    "name": "ipython",
    "version": 3
   },
   "file_extension": ".py",
   "mimetype": "text/x-python",
   "name": "python",
   "nbconvert_exporter": "python",
   "pygments_lexer": "ipython3",
   "version": "3.8.8"
  }
 },
 "nbformat": 4,
 "nbformat_minor": 5
}
